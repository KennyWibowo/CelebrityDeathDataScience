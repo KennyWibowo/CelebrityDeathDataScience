{
 "cells": [
  {
   "cell_type": "code",
   "execution_count": 1,
   "metadata": {},
   "outputs": [
    {
     "name": "stdout",
     "output_type": "stream",
     "text": [
      "Requirement already satisfied: pytrends in /Users/joseph/anaconda3/lib/python3.6/site-packages\n",
      "Requirement already satisfied: pandas in /Users/joseph/anaconda3/lib/python3.6/site-packages (from pytrends)\n",
      "Requirement already satisfied: requests in /Users/joseph/anaconda3/lib/python3.6/site-packages (from pytrends)\n",
      "Requirement already satisfied: lxml in /Users/joseph/anaconda3/lib/python3.6/site-packages (from pytrends)\n",
      "Requirement already satisfied: python-dateutil>=2 in /Users/joseph/anaconda3/lib/python3.6/site-packages (from pandas->pytrends)\n",
      "Requirement already satisfied: pytz>=2011k in /Users/joseph/anaconda3/lib/python3.6/site-packages (from pandas->pytrends)\n",
      "Requirement already satisfied: numpy>=1.7.0 in /Users/joseph/anaconda3/lib/python3.6/site-packages (from pandas->pytrends)\n",
      "Requirement already satisfied: chardet<3.1.0,>=3.0.2 in /Users/joseph/anaconda3/lib/python3.6/site-packages (from requests->pytrends)\n",
      "Requirement already satisfied: idna<2.7,>=2.5 in /Users/joseph/anaconda3/lib/python3.6/site-packages (from requests->pytrends)\n",
      "Requirement already satisfied: urllib3<1.23,>=1.21.1 in /Users/joseph/anaconda3/lib/python3.6/site-packages (from requests->pytrends)\n",
      "Requirement already satisfied: certifi>=2017.4.17 in /Users/joseph/anaconda3/lib/python3.6/site-packages (from requests->pytrends)\n",
      "Requirement already satisfied: six>=1.5 in /Users/joseph/anaconda3/lib/python3.6/site-packages (from python-dateutil>=2->pandas->pytrends)\n",
      "\u001b[33mYou are using pip version 9.0.1, however version 9.0.2 is available.\n",
      "You should consider upgrading via the 'pip install --upgrade pip' command.\u001b[0m\n"
     ]
    }
   ],
   "source": [
    "import sys\n",
    "!{sys.executable} -m pip install pytrends"
   ]
  },
  {
   "cell_type": "code",
   "execution_count": 2,
   "metadata": {
    "collapsed": true
   },
   "outputs": [],
   "source": [
    "import pandas\n",
    "from datetime import datetime"
   ]
  },
  {
   "cell_type": "code",
   "execution_count": 41,
   "metadata": {
    "collapsed": true
   },
   "outputs": [],
   "source": [
    "from pytrends.request import TrendReq\n",
    "pytrends = TrendReq(hl='en-US', tz=360)"
   ]
  },
  {
   "cell_type": "code",
   "execution_count": 42,
   "metadata": {},
   "outputs": [],
   "source": [
    "name = \"Mia Amber Davis\"\n",
    "comparator = \"Grand Canyon\"\n",
    "kw_list = [\"Grand Canyon\", \"Mia Amber Davis\"]\n",
    "pytrends.build_payload(kw_list, timeframe='all')\n",
    "df_py = pytrends.interest_over_time()"
   ]
  },
  {
   "cell_type": "code",
   "execution_count": 43,
   "metadata": {},
   "outputs": [
    {
     "data": {
      "text/plain": [
       "-55"
      ]
     },
     "execution_count": 43,
     "metadata": {},
     "output_type": "execute_result"
    }
   ],
   "source": [
    "name_split = name.split(\" \")\n",
    "name_split_len = len(name_split)\n",
    "shortened_name = name_split[0] + name_split[name_split_len-1]\n",
    "comparator_value = df_py[comparator].iloc[0]\n",
    "died = datetime.strptime(\"2011-05-10\", \"%Y-%m-%d\")\n",
    "df_py[(df_py.index.month == died.month) & (df_py.index.year == died.year)][name].iloc[0] - comparator_value"
   ]
  },
  {
   "cell_type": "code",
   "execution_count": 40,
   "metadata": {},
   "outputs": [
    {
     "data": {
      "text/plain": [
       "'Mia Davis'"
      ]
     },
     "execution_count": 40,
     "metadata": {},
     "output_type": "execute_result"
    }
   ],
   "source": [
    "name_split[0] + \" \" + name_split[name_split_len-1]"
   ]
  },
  {
   "cell_type": "code",
   "execution_count": null,
   "metadata": {
    "collapsed": true
   },
   "outputs": [],
   "source": []
  }
 ],
 "metadata": {
  "kernelspec": {
   "display_name": "Python 3",
   "language": "python",
   "name": "python3"
  },
  "language_info": {
   "codemirror_mode": {
    "name": "ipython",
    "version": 3
   },
   "file_extension": ".py",
   "mimetype": "text/x-python",
   "name": "python",
   "nbconvert_exporter": "python",
   "pygments_lexer": "ipython3",
   "version": "3.6.3"
  }
 },
 "nbformat": 4,
 "nbformat_minor": 2
}
