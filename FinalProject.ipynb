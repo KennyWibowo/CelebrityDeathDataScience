{
 "cells": [
  {
   "cell_type": "markdown",
   "metadata": {},
   "source": [
    "# COGS 108 - Final Project\n"
   ]
  },
  {
   "cell_type": "markdown",
   "metadata": {},
   "source": [
    "# Group Members:"
   ]
  },
  {
   "cell_type": "markdown",
   "metadata": {},
   "source": [
    "Name, PID, Project Contribution\n",
    "\n",
    "- Kenny Wibowo - A12030884 - Data Cleaning, Data Parsing\n",
    "- Varun Sujit - A11886049 - Written Sections and Organization, Data Visualization\n",
    "- Angela Xu - A12413011 - Data Analysis, Data Visualization\n",
    "- Aarjav Kothari - A91087718 - Section organization and reserch, Data Analysis\n",
    "- Joseph Thomas - A12008739 - Data Cleaning, Data Analysis"
   ]
  },
  {
   "cell_type": "markdown",
   "metadata": {},
   "source": [
    "# Introduction and Background"
   ]
  },
  {
   "cell_type": "markdown",
   "metadata": {},
   "source": [
    "For many on the internet, it seemed as though 2016 was a particularly awful year due to the deaths of many beloved actors, musician, and other celebrities. However, it may not actually be the case that 2016 had an unusually high number of celebrity deaths. Snopes examined the number of notable deaths reported by various news outlets in 2016 and in previous years and saw that while several news outlets reported more deaths in 2016 than in other years, the differences were not unusually high. This also does not necessarily mean than more celebrities are dying but rather it could be that news outlets are reporting more celebrity deaths in recent years. According to The Guardian, social media has contributed in amplifying emotional response after a celebrity death due to the speed at which news travels on these websites and apps as well as social media bringing people closer to the celebrities they adore. Time Magazine suggests that it is not the number of celebrity deaths that made 2016 unusual but rather the fact that many of the celebrities that passed away were particularly notable, which makes it seem like 2016 was worse than previous years.\n",
    "\n",
    "The Telegraph also discusses some theories about why so many celebrities seemed to die in 2016. It could be that more people are dying in general or more people are being considered celebrities. It is also possible that many celebrities had unhealthy lifestyles that ultimately contributed to their untimely deaths. People’s perceptions could also have been affected due to celebrities dying on the same day or within days of each other. We also once again get the theory that social media amplifies celebrity deaths.\n",
    "\n",
    "BBC ran an article regarding the pre-prepared orbituries for their radio and tv shows and saw a huge spike in the trend in the number of orbituries being prepared. BBC seemed to look into the social media aspect and if the numbers matched the spike on the social media trend. BBC created more pre-prepared orbituries in 2016 then they had combined   from 2013-2015.\n",
    "\n",
    "For our project, we will be examining the social media theory in particular. Since we get news spreads almost instantly through social media platforms and these platforms provide millions of people a place to express their emotions, it is quite plausible that social media has skewed people’s perceptions regarding the number of celebrity deaths.\n",
    "\n",
    "In other words, our main question is this: What is the total number of significant celebrities that passed away in 2016, compared to other years? How has social media impacted our bias of noting these deaths? We propose that that although it may be true that a significant number of celebrities passed away in 2016, the introduction of modern media, especially through social mediums such as Facebook and Reddit, has caused a sense of “over sensationalization” that biased our judgement of how many celebrities passed away in 2016 compared to other years.\n",
    "\n",
    "References: \n",
    "\n",
    "1) https://www.snopes.com/2016/12/28/2016-the-deadliest-year-for-celebrities/ \n",
    "\n",
    "2) http://www.telegraph.co.uk/men/thinking-man/why-are-so-many-celebrities-dying-in-2016/\n",
    "\n",
    "3) http://www.bbc.com/news/magazine-38329740"
   ]
  },
  {
   "cell_type": "markdown",
   "metadata": {},
   "source": [
    "# Data Description"
   ]
  },
  {
   "cell_type": "markdown",
   "metadata": {},
   "source": [
    "For context of this project, we are considering every individual that is present in a category or list in https://en.wikipedia.org/wiki/Lists_of_celebrities as a celebrity. Our data is comprised of lists of celebrities, and their relevence via pytrends, an API that queries google trends (https://trends.google.com/trends/). As a result, we need to parse through every link in the list recursively, and extract the list of celebrities that are deceased. The html parsing is done by using BeautifulSoup. This data will then be stored in a JSON file which can easily be converted into a pandas dataframe for future analysis. The pytrends API, allows users to query google trends with a list of keywords. The popularity of each key word is then compared to the other, returning numerical values in proportion to the other. For example if one keyword has a value 100 and the other 50, this means that the former is twice as popular for that particular day/time. This means in order for our data to proportionally the same across multiple queries, each celebrity must be queried along with a constant keyword, one that has a preferably stable popularity."
   ]
  },
  {
   "cell_type": "markdown",
   "metadata": {},
   "source": [
    "## Data Cleaning/Pre-processing"
   ]
  },
  {
   "cell_type": "markdown",
   "metadata": {},
   "source": [
    "The first step in our project is to import our dependencies"
   ]
  },
  {
   "cell_type": "code",
   "execution_count": 1,
   "metadata": {},
   "outputs": [
    {
     "ename": "ModuleNotFoundError",
     "evalue": "No module named 'pytrends'",
     "output_type": "error",
     "traceback": [
      "\u001b[0;31m---------------------------------------------------------------------------\u001b[0m",
      "\u001b[0;31mModuleNotFoundError\u001b[0m                       Traceback (most recent call last)",
      "\u001b[0;32m<ipython-input-1-28b5e16e5211>\u001b[0m in \u001b[0;36m<module>\u001b[0;34m()\u001b[0m\n\u001b[1;32m      5\u001b[0m \u001b[0;32mfrom\u001b[0m \u001b[0murllib\u001b[0m\u001b[0;34m.\u001b[0m\u001b[0mparse\u001b[0m \u001b[0;32mimport\u001b[0m \u001b[0murlparse\u001b[0m\u001b[0;34m\u001b[0m\u001b[0m\n\u001b[1;32m      6\u001b[0m \u001b[0;32mfrom\u001b[0m \u001b[0mcollections\u001b[0m \u001b[0;32mimport\u001b[0m \u001b[0mdeque\u001b[0m\u001b[0;34m\u001b[0m\u001b[0m\n\u001b[0;32m----> 7\u001b[0;31m \u001b[0;32mfrom\u001b[0m \u001b[0mpytrends\u001b[0m\u001b[0;34m.\u001b[0m\u001b[0mrequest\u001b[0m \u001b[0;32mimport\u001b[0m \u001b[0mTrendReq\u001b[0m\u001b[0;34m\u001b[0m\u001b[0m\n\u001b[0m\u001b[1;32m      8\u001b[0m \u001b[0;32mfrom\u001b[0m \u001b[0mdatetime\u001b[0m \u001b[0;32mimport\u001b[0m \u001b[0mdatetime\u001b[0m\u001b[0;34m\u001b[0m\u001b[0m\n\u001b[1;32m      9\u001b[0m \u001b[0;32mimport\u001b[0m \u001b[0mtime\u001b[0m\u001b[0;34m\u001b[0m\u001b[0m\n",
      "\u001b[0;31mModuleNotFoundError\u001b[0m: No module named 'pytrends'"
     ]
    }
   ],
   "source": [
    "import pandas as pd\n",
    "import requests\n",
    "import bs4\n",
    "from bs4 import BeautifulSoup\n",
    "from urllib.parse import urlparse\n",
    "from collections import deque\n",
    "from pytrends.request import TrendReq\n",
    "from datetime import datetime\n",
    "import time\n",
    "from collections import defaultdict\n",
    "from collections import OrderedDict\n",
    "import matplotlib.pyplot as plt\n",
    "import numpy as np\n",
    "import patsy\n",
    "import statsmodels.api as sm\n",
    "import scipy.stats as stats"
   ]
  },
  {
   "cell_type": "code",
   "execution_count": null,
   "metadata": {
    "collapsed": true
   },
   "outputs": [],
   "source": [
    "import sys\n",
    "!{sys.executable} -m pip install pytrends"
   ]
  },
  {
   "cell_type": "markdown",
   "metadata": {},
   "source": [
    "First, we will define a helper function that we will use to return the celebrity name and death date, along with any other features we would like to extract. \n",
    "\n",
    "If we pass in any page that isn't a wikipedia page of a deceased notable celebrity (as per our definition), the function will return `None`."
   ]
  },
  {
   "cell_type": "code",
   "execution_count": null,
   "metadata": {
    "collapsed": true
   },
   "outputs": [],
   "source": [
    "def get_death_date(soup):\n",
    "    table_selector = soup.select('table.infobox.vcard')\n",
    "\n",
    "    if table_selector:\n",
    "        table = table_selector[0]\n",
    "        \n",
    "        # Important features we would like to handle specially\n",
    "        name = table.find('span', class_='fn')\n",
    "        born = table.find('span', class_='bday')\n",
    "        died = table.find('span', class_='dday deathdate')\n",
    "        \n",
    "        # Only return if the person has a name, has born data, and died\n",
    "        if name and born and died:\n",
    "            data =  {'Name': name.text, 'Born': born.text, 'Died': died.text}\n",
    "            \n",
    "            # Extract other features that we would like to keep.\n",
    "            rows = table.find_all('tr')\n",
    "            for row in rows:\n",
    "                header = row.find('th')\n",
    "                datum = row.find('td')\n",
    "                if header and datum and header.text not in data:\n",
    "                    data[header.text.replace('\\xa0', ' ').strip()] = datum.get_text(' ', strip=True)\n",
    "                    \n",
    "            return data\n",
    "        \n",
    "    return None"
   ]
  },
  {
   "cell_type": "markdown",
   "metadata": {},
   "source": [
    "Then, we will recursively traverse the links through Breadth First Search and visit all Wikipedia links reachable from the 'List of Celebrities' page. "
   ]
  },
  {
   "cell_type": "code",
   "execution_count": 2,
   "metadata": {},
   "outputs": [
    {
     "name": "stdout",
     "output_type": "stream",
     "text": [
      "Loading initial pages...\r"
     ]
    },
    {
     "ename": "NameError",
     "evalue": "name 'get_death_date' is not defined",
     "output_type": "error",
     "traceback": [
      "\u001b[0;31m---------------------------------------------------------------------------\u001b[0m",
      "\u001b[0;31mNameError\u001b[0m                                 Traceback (most recent call last)",
      "\u001b[0;32m<ipython-input-2-65df72e11818>\u001b[0m in \u001b[0;36m<module>\u001b[0;34m()\u001b[0m\n\u001b[1;32m     35\u001b[0m \u001b[0;34m\u001b[0m\u001b[0m\n\u001b[1;32m     36\u001b[0m     \u001b[0;31m# See if page is of deceased person - if so, get the data\u001b[0m\u001b[0;34m\u001b[0m\u001b[0;34m\u001b[0m\u001b[0m\n\u001b[0;32m---> 37\u001b[0;31m     \u001b[0mresults\u001b[0m \u001b[0;34m=\u001b[0m \u001b[0mget_death_date\u001b[0m\u001b[0;34m(\u001b[0m\u001b[0msoup\u001b[0m\u001b[0;34m)\u001b[0m\u001b[0;34m\u001b[0m\u001b[0m\n\u001b[0m\u001b[1;32m     38\u001b[0m \u001b[0;34m\u001b[0m\u001b[0m\n\u001b[1;32m     39\u001b[0m     \u001b[0;31m# Append to dataframe buffer if we've found a match\u001b[0m\u001b[0;34m\u001b[0m\u001b[0;34m\u001b[0m\u001b[0m\n",
      "\u001b[0;31mNameError\u001b[0m: name 'get_death_date' is not defined"
     ]
    }
   ],
   "source": [
    "# Breadth First Search traversal.\n",
    "\n",
    "wikipedia_url = 'https://en.wikipedia.org'\n",
    "starting_endpoint = '/wiki/Lists_of_celebrities'\n",
    "click_limit = 2\n",
    "\n",
    "# Dictionary of visited links\n",
    "# 'url' -> number of clicks taken to get to link\n",
    "links_visited = {starting_endpoint: 0} \n",
    "# Queue of links to visit\n",
    "links_queue = deque()\n",
    "links_queue.appendleft(starting_endpoint)\n",
    "\n",
    "# Create a buffer of dataframes\n",
    "data_buffer = deque()\n",
    "\n",
    "# Debug info\n",
    "num_visited = 0\n",
    "\n",
    "# Find all links on the page that lead to another wikipedia page.\n",
    "while links_queue:\n",
    "    link = links_queue.pop()\n",
    "    page = requests.get(wikipedia_url + link)\n",
    "    soup = BeautifulSoup(page.content, 'html.parser')\n",
    "    num_visited += 1\n",
    "    \n",
    "    # Debug info\n",
    "    if links_visited[link] >= click_limit - 1:\n",
    "        num_links = len(links_visited)\n",
    "        num_deads = len(data_buffer)\n",
    "        percentage = format(100.0*(float(num_visited)/num_links), '.2f')\n",
    "        print((percentage + \"% - \" + str(len(links_queue)) + \" left, \" + str(num_deads) + \" recorded.\").ljust(60),  end='\\r', flush=True)\n",
    "    else:\n",
    "        print(\"Loading initial pages...\", end='\\r', flush=True)\n",
    "    \n",
    "    # See if page is of deceased person - if so, get the data\n",
    "    results = get_death_date(soup)\n",
    "    \n",
    "    # Append to dataframe buffer if we've found a match\n",
    "    if results:\n",
    "        data_buffer.append(pd.DataFrame([results]))\n",
    "    \n",
    "    # Break early on click limit or if page isn't a list\n",
    "    if links_visited[link] == click_limit or (\"List\" not in link and \"Category:\" not in link):\n",
    "        continue\n",
    "    \n",
    "    content = soup.find('div', id='content')\n",
    "    \n",
    "    # Continue BFS on links in the page\n",
    "    if content:\n",
    "        for candidate in content.findAll('a'):\n",
    "            if 'href' in candidate.attrs:\n",
    "                link_in_page = urlparse(candidate.attrs['href']).path\n",
    "                                \n",
    "                # Add to queue if it's a link we haven't seen before.\n",
    "                if link_in_page not in links_visited and link_in_page.startswith('/wiki/') and 'File' not in link_in_page:\n",
    "                    links_visited[link_in_page] = links_visited[link] + 1\n",
    "                    links_queue.appendleft(link_in_page)\n",
    "\n",
    "# Concatenate all of the buffer into the dataframe that holds our celebrity data\n",
    "df_celebrities = pd.concat(data_buffer)"
   ]
  },
  {
   "cell_type": "markdown",
   "metadata": {},
   "source": [
    "Since this takes such a long time, we will run this once and cache it into a JSON file. All subsequent operations will be run off of the loaded JSON file."
   ]
  },
  {
   "cell_type": "code",
   "execution_count": 112,
   "metadata": {},
   "outputs": [
    {
     "ename": "NameError",
     "evalue": "name 'df_celebrities' is not defined",
     "output_type": "error",
     "traceback": [
      "\u001b[0;31m---------------------------------------------------------------------------\u001b[0m",
      "\u001b[0;31mNameError\u001b[0m                                 Traceback (most recent call last)",
      "\u001b[0;32m<ipython-input-112-e90a05a94c5f>\u001b[0m in \u001b[0;36m<module>\u001b[0;34m()\u001b[0m\n\u001b[1;32m      1\u001b[0m \u001b[0;32mwith\u001b[0m \u001b[0mopen\u001b[0m\u001b[0;34m(\u001b[0m\u001b[0;34m'celebrities.json'\u001b[0m\u001b[0;34m,\u001b[0m \u001b[0;34m'w'\u001b[0m\u001b[0;34m)\u001b[0m \u001b[0;32mas\u001b[0m \u001b[0mfile\u001b[0m\u001b[0;34m:\u001b[0m\u001b[0;34m\u001b[0m\u001b[0m\n\u001b[0;32m----> 2\u001b[0;31m     \u001b[0mfile\u001b[0m\u001b[0;34m.\u001b[0m\u001b[0mwrite\u001b[0m\u001b[0;34m(\u001b[0m\u001b[0mdf_celebrities\u001b[0m\u001b[0;34m.\u001b[0m\u001b[0mto_json\u001b[0m\u001b[0;34m(\u001b[0m\u001b[0morient\u001b[0m\u001b[0;34m=\u001b[0m\u001b[0;34m'records'\u001b[0m\u001b[0;34m)\u001b[0m\u001b[0;34m)\u001b[0m\u001b[0;34m\u001b[0m\u001b[0m\n\u001b[0m",
      "\u001b[0;31mNameError\u001b[0m: name 'df_celebrities' is not defined"
     ]
    }
   ],
   "source": [
    "with open('celebrities.json', 'w') as file:\n",
    "    file.write(df_celebrities.to_json(orient='records'))"
   ]
  },
  {
   "cell_type": "markdown",
   "metadata": {},
   "source": [
    "Now, we can read the file back in as the JSON in order to circumvent the crawling process for future usage."
   ]
  },
  {
   "cell_type": "code",
   "execution_count": 120,
   "metadata": {
    "collapsed": true
   },
   "outputs": [],
   "source": [
    "df_celebrities = pd.read_json(\"celebrities.json\", orient=\"records\")"
   ]
  },
  {
   "cell_type": "code",
   "execution_count": 121,
   "metadata": {
    "collapsed": true
   },
   "outputs": [],
   "source": [
    "date_objects = []\n",
    "\n",
    "base_date = datetime.strptime(\"2004-01-01\", \"%Y-%m-%d\")\n",
    "\n",
    "for date in df_celebrities[\"Died\"]:\n",
    "    date_objects.append(datetime.strptime(date, \"%Y-%m-%d\"))\n",
    "df_celebrities[\"Died\"] = date_objects\n",
    "\n",
    "\n",
    "df_valid = df_celebrities[df_celebrities[\"Died\"] >= base_date]"
   ]
  },
  {
   "cell_type": "markdown",
   "metadata": {},
   "source": [
    "Since pytrends records begin in 2004, we will discard any deaths that happened before that. This leaves us with 846 celebrities that died from 2004-01-01 to present."
   ]
  },
  {
   "cell_type": "code",
   "execution_count": 122,
   "metadata": {},
   "outputs": [
    {
     "name": "stdout",
     "output_type": "stream",
     "text": [
      "Celebrity trends parsed = 846\r"
     ]
    },
    {
     "name": "stderr",
     "output_type": "stream",
     "text": [
      "/Users/joseph/anaconda3/lib/python3.6/site-packages/ipykernel_launcher.py:58: SettingWithCopyWarning: \n",
      "A value is trying to be set on a copy of a slice from a DataFrame.\n",
      "Try using .loc[row_indexer,col_indexer] = value instead\n",
      "\n",
      "See the caveats in the documentation: http://pandas.pydata.org/pandas-docs/stable/indexing.html#indexing-view-versus-copy\n",
      "/Users/joseph/anaconda3/lib/python3.6/site-packages/ipykernel_launcher.py:59: SettingWithCopyWarning: \n",
      "A value is trying to be set on a copy of a slice from a DataFrame.\n",
      "Try using .loc[row_indexer,col_indexer] = value instead\n",
      "\n",
      "See the caveats in the documentation: http://pandas.pydata.org/pandas-docs/stable/indexing.html#indexing-view-versus-copy\n",
      "/Users/joseph/anaconda3/lib/python3.6/site-packages/ipykernel_launcher.py:60: SettingWithCopyWarning: \n",
      "A value is trying to be set on a copy of a slice from a DataFrame.\n",
      "Try using .loc[row_indexer,col_indexer] = value instead\n",
      "\n",
      "See the caveats in the documentation: http://pandas.pydata.org/pandas-docs/stable/indexing.html#indexing-view-versus-copy\n"
     ]
    }
   ],
   "source": [
    "#Search word to compare it to\n",
    "comparator = \"Grand Canyon\"\n",
    "\n",
    "#Open the pytrends request\n",
    "pytrends = TrendReq(hl='en-US', tz=360)\n",
    "\n",
    "#Create a list for the new column in the table\n",
    "trends = []\n",
    "comparator_average_trends = []\n",
    "trend_ratio = []\n",
    "\n",
    "#Find the relative trend at time of death compared to comparator\n",
    "#Comparator relative trend value taken from 2004-01-01\n",
    "def relative_trend(name, died):\n",
    "    #Enter the name for searching the trend\n",
    "    kw_list = [comparator, name]\n",
    "    #Get a dataframe of the relative trends\n",
    "    e_catcher = 0\n",
    "    while e_catcher == 0:\n",
    "        try:\n",
    "            pytrends.build_payload(kw_list, timeframe='all')\n",
    "            df_py = pytrends.interest_over_time()\n",
    "            e_catcher = 1\n",
    "        except:\n",
    "            time.sleep(3600)\n",
    "    cv = df_py[comparator].tolist()\n",
    "    comparator_avg = sum(cv)/float(len(cv))\n",
    "    trend = df_py[(df_py.index.month == died.month) & (df_py.index.year == died.year)][name].iloc[0]\n",
    "    trend_ratio = trend/comparator_avg\n",
    "    return trend, comparator_avg, trend_ratio\n",
    "    \n",
    "\n",
    "#Loop through and find all the trends relative to grand canyon\n",
    "counter = 0\n",
    "for name, died in zip(df_valid[\"Name\"], df_valid[\"Died\"]):\n",
    "    #Check if there are more than two parts to the name\n",
    "    name_split = name.split(\" \")\n",
    "    name_split_len = len(name_split)\n",
    "    shortened_name = name_split[0] + \" \" + name_split[name_split_len-1]\n",
    "    if  name_split_len > 2:\n",
    "        long_rt, cvl, trl = relative_trend(name,died)\n",
    "        short_rt, cvs, trs = relative_trend(shortened_name,died)\n",
    "        if long_rt > short_rt:\n",
    "            trends.append(long_rt)\n",
    "            comparator_average_trends.append(cvl)\n",
    "            trend_ratio.append(trl)\n",
    "        else:\n",
    "            trends.append(short_rt)\n",
    "            comparator_average_trends.append(cvs)\n",
    "            trend_ratio.append(trs)\n",
    "    else:\n",
    "        trend, cv, tr = relative_trend(name,died)\n",
    "        trends.append(trend)\n",
    "        comparator_average_trends.append(cv)\n",
    "        trend_ratio.append(tr)\n",
    "    counter += 1\n",
    "    print((\"Celebrity trends parsed = \" + str(counter)), end='\\r', flush=True)\n",
    "df_valid['Trends'] = trends\n",
    "df_valid['Comp_Average'] = comparator_average_trends\n",
    "df_valid['Trend_Ratio'] = trend_ratio"
   ]
  },
  {
   "cell_type": "markdown",
   "metadata": {},
   "source": [
    "This code accesses pytrends in order to calculate the trends for each celebrity at time of death, and compares it to the average trend of our designated comparator. We chose Grand Canyon as our comparator as a decently popular search term, that would help minimize the innacuracy that stems from the fact that the trend values bottom out and zero and have a max of 100. These boundaries introduce a chance of error. We also used Grand Canyon because we wanted a relative trend, so by comparing each celebrity to the Grand Canyon we have a baseline that every celebrity is compared to. We compared the trend of the celebrity at time of death with the average of the relative trend of the Grand Canyon. We ended up keeping three values, the trend of the Celebrity, the average trend of the Grand Canyon relative to that celebrity, and the ratio between the two.\n",
    "<br><br>\n",
    "In order to give the most accurate trend of the celebrity, we also accounted for the fact that celebrities may be searched in different ways, so in the case of celebrities having more than a 2 part name, we searched for both the entire name, and then the first and last name, and returned the value that had the higher trends.\n",
    "<br><br>\n",
    "We also ran into issues with the Google API, since there was a fetch request limit of around 350 an hour. To counter this, we caught the exception when it appeared and then put the thread to sleep for an hour, then tried again."
   ]
  },
  {
   "cell_type": "code",
   "execution_count": 123,
   "metadata": {
    "collapsed": true
   },
   "outputs": [],
   "source": [
    "with open('valid.json', 'w') as file:\n",
    "    file.write(df_valid.to_json(orient='records'))"
   ]
  },
  {
   "cell_type": "markdown",
   "metadata": {},
   "source": [
    "# Data Analysis/Data Visualization"
   ]
  },
  {
   "cell_type": "code",
   "execution_count": 11,
   "metadata": {
    "collapsed": true
   },
   "outputs": [],
   "source": [
    "df_valid = pd.read_json(\"valid.json\", orient=\"records\")"
   ]
  },
  {
   "cell_type": "code",
   "execution_count": 12,
   "metadata": {
    "collapsed": true
   },
   "outputs": [],
   "source": [
    "df_valid[\"Died\"] = pd.to_datetime(df_valid['Died'], unit=\"ms\")\n",
    "#Get rid of 2018, since its not a complete year\n",
    "df_valid = df_valid[df_valid[\"Died\"] < datetime.strptime(\"2018-01-01\", \"%Y-%m-%d\")]"
   ]
  },
  {
   "cell_type": "markdown",
   "metadata": {},
   "source": [
    "We also removed deaths in 2018 since it was not a complete year."
   ]
  },
  {
   "cell_type": "code",
   "execution_count": 6,
   "metadata": {
    "collapsed": true
   },
   "outputs": [],
   "source": [
    "#Count the number of deaths per year\n",
    "deaths_per_year = defaultdict(int)\n",
    "for row in df_valid[\"Died\"]:\n",
    "    deaths_per_year[row.year] += 1\n",
    "deaths_sorted = OrderedDict(sorted(deaths_per_year.items()))"
   ]
  },
  {
   "cell_type": "code",
   "execution_count": 7,
   "metadata": {},
   "outputs": [
    {
     "name": "stdout",
     "output_type": "stream",
     "text": [
      "Deaths in 2004 = 56\n",
      "Deaths in 2005 = 48\n",
      "Deaths in 2006 = 56\n",
      "Deaths in 2007 = 48\n",
      "Deaths in 2008 = 58\n",
      "Deaths in 2009 = 45\n",
      "Deaths in 2010 = 62\n",
      "Deaths in 2011 = 61\n",
      "Deaths in 2012 = 58\n",
      "Deaths in 2013 = 61\n",
      "Deaths in 2014 = 60\n",
      "Deaths in 2015 = 63\n",
      "Deaths in 2016 = 78\n",
      "Deaths in 2017 = 77\n"
     ]
    }
   ],
   "source": [
    "#Print number of deaths per year sorted by deaths\n",
    "for key,value in deaths_sorted.items():\n",
    "    print( \"Deaths in \" + str(key) + \" = \" + str(value))"
   ]
  },
  {
   "cell_type": "markdown",
   "metadata": {},
   "source": [
    "Here we see that 2016 was the year with the most celebrity deaths, as we saw mentioned in the article that was in our preliminary research. We also see that 2017 was right behind it."
   ]
  },
  {
   "cell_type": "code",
   "execution_count": 8,
   "metadata": {
    "collapsed": true
   },
   "outputs": [],
   "source": [
    "#Find the trends per year\n",
    "trends_per_year = defaultdict(list)\n",
    "for key,value in deaths_per_year.items():\n",
    "    df = df_valid[(df_valid.Died >= datetime.strptime(str(key), \"%Y\")) & (df_valid.Died < datetime.strptime(str(key + 1), \"%Y\"))]\n",
    "    trends_per_year[key] = df.Trends.tolist()"
   ]
  },
  {
   "cell_type": "code",
   "execution_count": 9,
   "metadata": {
    "collapsed": true
   },
   "outputs": [],
   "source": [
    "#Find the average of trends per year\n",
    "trends_per_year_avg = defaultdict(float)\n",
    "\n",
    "for key,value in trends_per_year.items():\n",
    "    tr = trends_per_year[key]\n",
    "    trends_per_year_avg[key] = sum(tr)/ float(len(tr))"
   ]
  },
  {
   "cell_type": "code",
   "execution_count": 10,
   "metadata": {
    "collapsed": true
   },
   "outputs": [],
   "source": [
    "trends_per_year_avg_ord = OrderedDict(sorted(trends_per_year_avg.items()))"
   ]
  },
  {
   "cell_type": "code",
   "execution_count": 12,
   "metadata": {},
   "outputs": [
    {
     "name": "stdout",
     "output_type": "stream",
     "text": [
      "Trend avg in 2004 = 14.071428571428571\n",
      "Trend avg in 2005 = 11.479166666666666\n",
      "Trend avg in 2006 = 6.696428571428571\n",
      "Trend avg in 2007 = 5.875\n",
      "Trend avg in 2008 = 12.293103448275861\n",
      "Trend avg in 2009 = 16.4\n",
      "Trend avg in 2010 = 17.387096774193548\n",
      "Trend avg in 2011 = 14.180327868852459\n",
      "Trend avg in 2012 = 24.56896551724138\n",
      "Trend avg in 2013 = 10.852459016393443\n",
      "Trend avg in 2014 = 20.283333333333335\n",
      "Trend avg in 2015 = 16.6984126984127\n",
      "Trend avg in 2016 = 20.307692307692307\n",
      "Trend avg in 2017 = 17.31168831168831\n"
     ]
    }
   ],
   "source": [
    "for key,value in trends_per_year_avg_ord.items():\n",
    "    print( \"Trend avg in \" + str(key) + \" = \" + str(value))"
   ]
  },
  {
   "cell_type": "markdown",
   "metadata": {},
   "source": [
    "Here we can see that even though we hypothesized that trends would go up inherently because of the prevalence of technology and the spread of information, there doesn't seem to be a correlation between time and trends average."
   ]
  },
  {
   "cell_type": "code",
   "execution_count": 13,
   "metadata": {},
   "outputs": [
    {
     "name": "stdout",
     "output_type": "stream",
     "text": [
      "Deaths, Trend sum, Trend average in 2004 = 56, 788, 14.071428571428571\n",
      "Deaths, Trend sum, Trend average in 2005 = 48, 551, 11.479166666666666\n",
      "Deaths, Trend sum, Trend average in 2006 = 56, 375, 6.696428571428571\n",
      "Deaths, Trend sum, Trend average in 2007 = 48, 282, 5.875\n",
      "Deaths, Trend sum, Trend average in 2008 = 58, 713, 12.293103448275861\n",
      "Deaths, Trend sum, Trend average in 2009 = 45, 738, 16.4\n",
      "Deaths, Trend sum, Trend average in 2010 = 62, 1078, 17.387096774193548\n",
      "Deaths, Trend sum, Trend average in 2011 = 61, 865, 14.180327868852459\n",
      "Deaths, Trend sum, Trend average in 2012 = 58, 1425, 24.56896551724138\n",
      "Deaths, Trend sum, Trend average in 2013 = 61, 662, 10.852459016393443\n",
      "Deaths, Trend sum, Trend average in 2014 = 60, 1217, 20.283333333333335\n",
      "Deaths, Trend sum, Trend average in 2015 = 63, 1052, 16.6984126984127\n",
      "Deaths, Trend sum, Trend average in 2016 = 78, 1584, 20.307692307692307\n",
      "Deaths, Trend sum, Trend average in 2017 = 77, 1333, 17.31168831168831\n"
     ]
    }
   ],
   "source": [
    "for key,value in trends_per_year_avg_ord.items():\n",
    "    print( \"Deaths and Trend average in \" + str(key) + \" = \" + str(deaths_per_year[key]) + \", \" + str(trends_per_year_avg[key]))"
   ]
  },
  {
   "cell_type": "markdown",
   "metadata": {},
   "source": [
    "We can begin to see here that there doesn't seem to be a correlation between the number of deaths per year and the trend averages. Or at least a not very strong one. A year with 60 deaths in 2014 had a higher trend average than the 77 deaths in 2017. We also see that the highest trend average was not in 2016, but in 2012."
   ]
  },
  {
   "cell_type": "code",
   "execution_count": 14,
   "metadata": {
    "collapsed": true
   },
   "outputs": [],
   "source": [
    "#Count the number of positive trend deaths per year\n",
    "positive_deaths_per_year = defaultdict(int)\n",
    "for death,trend in zip(df_valid[\"Died\"],df_valid[\"Trends\"]):\n",
    "    if trend >= 1:\n",
    "        positive_deaths_per_year[death.year] += 1\n",
    "positive_deaths_sorted = OrderedDict(sorted(positive_deaths_per_year.items()))"
   ]
  },
  {
   "cell_type": "code",
   "execution_count": 15,
   "metadata": {},
   "outputs": [
    {
     "name": "stdout",
     "output_type": "stream",
     "text": [
      "Trend Ratios in 2004 greater than 1 = 38\n",
      "Trend Ratios in 2005 greater than 1 = 39\n",
      "Trend Ratios in 2006 greater than 1 = 36\n",
      "Trend Ratios in 2007 greater than 1 = 35\n",
      "Trend Ratios in 2008 greater than 1 = 42\n",
      "Trend Ratios in 2009 greater than 1 = 31\n",
      "Trend Ratios in 2010 greater than 1 = 43\n",
      "Trend Ratios in 2011 greater than 1 = 46\n",
      "Trend Ratios in 2012 greater than 1 = 50\n",
      "Trend Ratios in 2013 greater than 1 = 42\n",
      "Trend Ratios in 2014 greater than 1 = 38\n",
      "Trend Ratios in 2015 greater than 1 = 41\n",
      "Trend Ratios in 2016 greater than 1 = 57\n",
      "Trend Ratios in 2017 greater than 1 = 57\n"
     ]
    }
   ],
   "source": [
    "for key,value in positive_deaths_sorted.items():\n",
    "    print( \"Trend Ratios in \" + str(key) + \" greater than 1 = \" + str(value))"
   ]
  },
  {
   "cell_type": "markdown",
   "metadata": {},
   "source": [
    "With this statistic, we checked each year the number of deaths that were significantly high in trend. We checked this by seeing if the trend ratio was at least one, and counted all the deaths that met this condition."
   ]
  },
  {
   "cell_type": "code",
   "execution_count": 21,
   "metadata": {},
   "outputs": [
    {
     "data": {
      "image/png": "[encoded data removed]",
      "text/plain": [
       "<matplotlib.figure.Figure at 0x10ce4bcf8>"
      ]
     },
     "metadata": {},
     "output_type": "display_data"
    }
   ],
   "source": [
    "years = list(deaths_sorted.keys())\n",
    "deaths = list(deaths_sorted.values())\n",
    "trend_data = list(trends_per_year_avg_ord.values())\n",
    "\n",
    "plt.plot(years, deaths, color='g', label='Deaths')\n",
    "plt.plot(years, trend_data, color='orange', label='Average trend popularity')\n",
    "plt.title('Average Celebrity trend popularity, Deaths - Years')\n",
    "plt.xlabel('Year')\n",
    "plt.legend()\n",
    "plt.show()"
   ]
  },
  {
   "cell_type": "markdown",
   "metadata": {},
   "source": [
    "In this graph, plotting a line graph for deaths over the years and a line graph for trend ratio average over the years, we see that there doesnt seem to be much correlation between the two statistics."
   ]
  },
  {
   "cell_type": "code",
   "execution_count": 17,
   "metadata": {},
   "outputs": [
    {
     "data": {
      "image/png": "[encoded data removed]",
      "text/plain": [
       "<matplotlib.figure.Figure at 0x10cad5828>"
      ]
     },
     "metadata": {},
     "output_type": "display_data"
    }
   ],
   "source": [
    "plt.bar(years,deaths)\n",
    "plt.title('Bar Graph: Celebrity Deaths per year')\n",
    "plt.show()"
   ]
  },
  {
   "cell_type": "code",
   "execution_count": 18,
   "metadata": {},
   "outputs": [
    {
     "data": {
      "image/png": "[encoded data removed]",
      "text/plain": [
       "<matplotlib.figure.Figure at 0x10cbdb2b0>"
      ]
     },
     "metadata": {},
     "output_type": "display_data"
    }
   ],
   "source": [
    "plt.bar(years,trend_data)\n",
    "plt.title('Bar Graph: Average Celebrity Death Trends per year')\n",
    "plt.show()"
   ]
  },
  {
   "cell_type": "code",
   "execution_count": 19,
   "metadata": {},
   "outputs": [
    {
     "data": {
      "image/png": "[encoded data removed]",
      "text/plain": [
       "<matplotlib.figure.Figure at 0x10ccd3b70>"
      ]
     },
     "metadata": {},
     "output_type": "display_data"
    }
   ],
   "source": [
    "plt.scatter(trend_data, deaths, color='g')\n",
    "z = np.polyfit(trend_data, deaths, 1)\n",
    "p = np.poly1d(z)\n",
    "plt.plot(trend_data,p(trend_data),\"r--\")\n",
    "plt.title('Average Celebrity Trend Popularity - Deaths')\n",
    "plt.xlabel('Trend Avg Per Year')\n",
    "plt.ylabel('Deaths Per Year')\n",
    "plt.show()"
   ]
  },
  {
   "cell_type": "markdown",
   "metadata": {},
   "source": [
    "Here we see that even though there is a positive correlation between the trend average per year, and the deaths per year, there is a high variation of the scatter points around the trend line."
   ]
  },
  {
   "cell_type": "code",
   "execution_count": 64,
   "metadata": {},
   "outputs": [
    {
     "name": "stdout",
     "output_type": "stream",
     "text": [
      "                            OLS Regression Results                            \n",
      "==============================================================================\n",
      "Dep. Variable:                 deaths   R-squared:                       0.206\n",
      "Model:                            OLS   Adj. R-squared:                  0.140\n",
      "Method:                 Least Squares   F-statistic:                     3.111\n",
      "Date:                Wed, 21 Mar 2018   Prob (F-statistic):              0.103\n",
      "Time:                        20:18:00   Log-Likelihood:                -49.263\n",
      "No. Observations:                  14   AIC:                             102.5\n",
      "Df Residuals:                      12   BIC:                             103.8\n",
      "Df Model:                           1                                         \n",
      "Covariance Type:            nonrobust                                         \n",
      "==============================================================================\n",
      "                 coef    std err          t      P>|t|      [0.025      0.975]\n",
      "------------------------------------------------------------------------------\n",
      "Intercept     47.0512      7.364      6.389      0.000      31.005      63.097\n",
      "trends         0.8267      0.469      1.764      0.103      -0.195       1.848\n",
      "==============================================================================\n",
      "Omnibus:                        0.370   Durbin-Watson:                   1.485\n",
      "Prob(Omnibus):                  0.831   Jarque-Bera (JB):                0.112\n",
      "Skew:                           0.193   Prob(JB):                        0.946\n",
      "Kurtosis:                       2.791   Cond. No.                         49.3\n",
      "==============================================================================\n",
      "\n",
      "Warnings:\n",
      "[1] Standard Errors assume that the covariance matrix of the errors is correctly specified.\n"
     ]
    },
    {
     "name": "stderr",
     "output_type": "stream",
     "text": [
      "/anaconda3/lib/python3.6/site-packages/scipy/stats/stats.py:1334: UserWarning: kurtosistest only valid for n>=20 ... continuing anyway, n=14\n",
      "  \"anyway, n=%i\" % int(n))\n"
     ]
    }
   ],
   "source": [
    "dictionary = {'trends': trend_data, 'deaths': deaths}\n",
    "regressionframe = pd.DataFrame(data=dictionary)\n",
    "outcome_1, predictors_1 = patsy.dmatrices('deaths ~ trends', regressionframe)\n",
    "mod_1 = sm.OLS(outcome_1, predictors_1)\n",
    "res_1 = mod_1.fit()\n",
    "print(res_1.summary())"
   ]
  },
  {
   "cell_type": "markdown",
   "metadata": {},
   "source": [
    "Here our initial impressions of the data are proved. We see that the correlation between the two statistics to be pretty minor, with an R-squared value of 0.206, showing us that there is indeed a weak positive correlation."
   ]
  },
  {
   "cell_type": "markdown",
   "metadata": {},
   "source": [
    "---\n",
    "To further examine why people might have felt that 2016 was a particularly bad year for celebrity deaths, we will be looking at cause of death data, as well as the ages at which these celebrities died, and seeing if there are any abnormalities. If 2016 was an abnormal year in these aspects, that could help explain the feeling that many had that 2016 was a bad year.\n",
    "\n",
    "First, we will take a look at celebrity ages at death. If perhaps there was an unusually large number of untimely/young deaths among celebrities in 2016, that may have affected people's perceptions.\n",
    "\n",
    "We can obtain the ages by finding the difference in time between the birth dates and death dates."
   ]
  },
  {
   "cell_type": "code",
   "execution_count": null,
   "metadata": {
    "collapsed": true
   },
   "outputs": [],
   "source": [
    "# Function to calculate age at time of death\n",
    "def calc_age(x):\n",
    "    return np.floor((x.days)/365)\n",
    "\n",
    "# Copy data frame and keep relevant columns\n",
    "df_cod = df_valid.copy()\n",
    "df_cod = df_cod[[\"Born\",\"Died\",\"Cause of death\"]]\n",
    "df_cod[\"Born\"] = pd.to_datetime(df_cod[\"Born\"])\n",
    "# Calculate age at death and save to new column\n",
    "df_cod[\"Age at death\"] = (df_cod[\"Died\"] - df_cod[\"Born\"]).apply(calc_age)\n",
    "# Get year of death from date of death and save to new column\n",
    "df_cod[\"Death year\"] = df_cod[\"Died\"].dt.year"
   ]
  },
  {
   "cell_type": "markdown",
   "metadata": {},
   "source": [
    "We can then create a pivot table and calculate the average age at death for each year from 2004 to 2017."
   ]
  },
  {
   "cell_type": "code",
   "execution_count": 13,
   "metadata": {
    "scrolled": true
   },
   "outputs": [
    {
     "data": {
      "text/html": [
       "<div>\n",
       "<style>\n",
       "    .dataframe thead tr:only-child th {\n",
       "        text-align: right;\n",
       "    }\n",
       "\n",
       "    .dataframe thead th {\n",
       "        text-align: left;\n",
       "    }\n",
       "\n",
       "    .dataframe tbody tr th {\n",
       "        vertical-align: top;\n",
       "    }\n",
       "</style>\n",
       "<table border=\"1\" class=\"dataframe\">\n",
       "  <thead>\n",
       "    <tr style=\"text-align: right;\">\n",
       "      <th></th>\n",
       "      <th>Age at death</th>\n",
       "    </tr>\n",
       "    <tr>\n",
       "      <th>Death year</th>\n",
       "      <th></th>\n",
       "    </tr>\n",
       "  </thead>\n",
       "  <tbody>\n",
       "    <tr>\n",
       "      <th>2004</th>\n",
       "      <td>75.125000</td>\n",
       "    </tr>\n",
       "    <tr>\n",
       "      <th>2005</th>\n",
       "      <td>77.500000</td>\n",
       "    </tr>\n",
       "    <tr>\n",
       "      <th>2006</th>\n",
       "      <td>79.660714</td>\n",
       "    </tr>\n",
       "    <tr>\n",
       "      <th>2007</th>\n",
       "      <td>78.937500</td>\n",
       "    </tr>\n",
       "    <tr>\n",
       "      <th>2008</th>\n",
       "      <td>78.241379</td>\n",
       "    </tr>\n",
       "    <tr>\n",
       "      <th>2009</th>\n",
       "      <td>78.955556</td>\n",
       "    </tr>\n",
       "    <tr>\n",
       "      <th>2010</th>\n",
       "      <td>75.419355</td>\n",
       "    </tr>\n",
       "    <tr>\n",
       "      <th>2011</th>\n",
       "      <td>74.098361</td>\n",
       "    </tr>\n",
       "    <tr>\n",
       "      <th>2012</th>\n",
       "      <td>80.206897</td>\n",
       "    </tr>\n",
       "    <tr>\n",
       "      <th>2013</th>\n",
       "      <td>78.639344</td>\n",
       "    </tr>\n",
       "    <tr>\n",
       "      <th>2014</th>\n",
       "      <td>81.166667</td>\n",
       "    </tr>\n",
       "    <tr>\n",
       "      <th>2015</th>\n",
       "      <td>79.761905</td>\n",
       "    </tr>\n",
       "    <tr>\n",
       "      <th>2016</th>\n",
       "      <td>76.794872</td>\n",
       "    </tr>\n",
       "    <tr>\n",
       "      <th>2017</th>\n",
       "      <td>79.402597</td>\n",
       "    </tr>\n",
       "  </tbody>\n",
       "</table>\n",
       "</div>"
      ],
      "text/plain": [
       "            Age at death\n",
       "Death year              \n",
       "2004           75.125000\n",
       "2005           77.500000\n",
       "2006           79.660714\n",
       "2007           78.937500\n",
       "2008           78.241379\n",
       "2009           78.955556\n",
       "2010           75.419355\n",
       "2011           74.098361\n",
       "2012           80.206897\n",
       "2013           78.639344\n",
       "2014           81.166667\n",
       "2015           79.761905\n",
       "2016           76.794872\n",
       "2017           79.402597"
      ]
     },
     "execution_count": 13,
     "metadata": {},
     "output_type": "execute_result"
    }
   ],
   "source": [
    "# Create pivot table with mean age at death by year\n",
    "pv1 = pd.pivot_table(df_cod, values=\"Age at death\", index=\"Death year\")\n",
    "pv1"
   ]
  },
  {
   "cell_type": "markdown",
   "metadata": {},
   "source": [
    "We can then plot these values over time. From the graph below, we can see that we do have a younger average death age in 2016 compared to the last few years prior, but it is not the youngest average death age overall."
   ]
  },
  {
   "cell_type": "code",
   "execution_count": 14,
   "metadata": {},
   "outputs": [
    {
     "data": {
      "image/png": "[encoded data removed]",
      "text/plain": [
       "<matplotlib.figure.Figure at 0x11d5f3da0>"
      ]
     },
     "metadata": {},
     "output_type": "display_data"
    }
   ],
   "source": [
    "# Visualizing mean age at death by year\n",
    "df1 = pd.DataFrame(pv1.to_records())\n",
    "df1 = df1.set_index(\"Death year\")\n",
    "df1.plot()\n",
    "plt.show()"
   ]
  },
  {
   "cell_type": "markdown",
   "metadata": {},
   "source": [
    "Next, we will take a look at the causes of death. Here, we are looking for unusually large amounts of \"unnatural deaths\" (i.e. deaths that were caused by forces outside of the person's body). Likewise with the age at death, if there were many instances of sudden and unforseen deaths in 2016, it may have skewed people's perceptions.\n",
    "\n",
    "First, we filter the data and remove entries in which the cause of death is a null value."
   ]
  },
  {
   "cell_type": "code",
   "execution_count": 15,
   "metadata": {
    "collapsed": true
   },
   "outputs": [],
   "source": [
    "# Copy data frame and drop rows containing null values\n",
    "df_cod2 = df_cod.copy()\n",
    "df_cod2 = df_cod2.dropna()"
   ]
  },
  {
   "cell_type": "code",
   "execution_count": null,
   "metadata": {
    "collapsed": true
   },
   "outputs": [],
   "source": [
    "# View unique causes of death\n",
    "df_cod2[\"Cause of death\"].unique()"
   ]
  },
  {
   "cell_type": "markdown",
   "metadata": {},
   "source": [
    "As seen in the cell above, the data in the \"Cause of death\" column is quite messy. In order to clean it up, we write a function to standardize the causes of death and consolidate the similar ones."
   ]
  },
  {
   "cell_type": "code",
   "execution_count": 16,
   "metadata": {
    "collapsed": true
   },
   "outputs": [],
   "source": [
    "# Function to clean up cause of death data/aggregate similar causes\n",
    "def standardize_cod(cod_in):\n",
    "    cod_in = cod_in.lower()\n",
    "    cod_in = cod_in.strip()\n",
    "    \n",
    "    cod_in = cod_in.replace(\"[1]\", \"\")\n",
    "    cod_in = cod_in.replace(\"]\", \"\")\n",
    "    cod_in = cod_in.replace(\"ailment\", \"disease\")\n",
    "    \n",
    "    if \"suicide\" in cod_in:\n",
    "        cod_in = \"suicide\"\n",
    "    if \"murder\" in cod_in or \"assassin\" in cod_in:\n",
    "        cod_in = \"murder\"\n",
    "    if \"accident\" in cod_in or \"collision\" in cod_in or \"fall\" in cod_in or \"struck\" in cod_in:\n",
    "        cod_in = \"accident\"\n",
    "    if \"drug\" in cod_in or \"alcohol\" in cod_in:\n",
    "        cod_in = \"substance abuse\"\n",
    "    if \"surgery\" in cod_in or \"ectomy\" in cod_in:\n",
    "        cod_in = \"complications from surgery\"\n",
    "    if \"unknown\" in cod_in:\n",
    "        cod_in = \"unknown\"\n",
    "        \n",
    "    if \"cancer\" in cod_in or \"leukemia\" in cod_in or \"leukaemia\" in cod_in or \"oma\" in cod_in or \"polycythemia vera\" in cod_in or \"myelodysplastic syndrome\" in cod_in:\n",
    "        cod_in = \"cancer\"\n",
    "    if \"pneumonia\" in cod_in:\n",
    "        cod_in = \"pneumonia\"\n",
    "    if \"stroke\" in cod_in:\n",
    "        cod_in = \"stroke\"\n",
    "    if \"heart attack\" in cod_in:\n",
    "        cod_in = \"heart attack\"\n",
    "    if \"failure\" in cod_in or \"insufficiency\" in cod_in:\n",
    "        cod_in = \"organ failure\"\n",
    "    if \"alzheimer\" in cod_in:\n",
    "        cod_in = \"alzheimer's\"\n",
    "    if \"aneurysm\" in cod_in:\n",
    "        cod_in = \"aneurysm\"\n",
    "    if \"diabetes\" in cod_in:\n",
    "        cod_in = \"diabetes\"\n",
    "    if \"dementia\" in cod_in:\n",
    "        cod_in = \"dementia\"\n",
    "    if \"sepsis\" in cod_in or \"septic\" in cod_in:\n",
    "        cod_in = \"sepsis\"\n",
    "    if \"vascul\" in cod_in:\n",
    "        cod_in = \"vascular disease\"\n",
    "    if \"heart disease\" in cod_in or \"pulmonary disease\" in cod_in or \"cardiovascular disease\" in cod_in:\n",
    "        cod_in = \"heart disease\"\n",
    "    if \"pulmonary edema\" in cod_in or \"pulmonary fibrosis\" in cod_in or \"emphysema\" in cod_in or \"chest infection\" in cod_in:\n",
    "        cod_in = \"lung disease\"\n",
    "    if \"neuron\" in cod_in or \"amyotrophic lateral sclerosis\" in cod_in or \"neuron\" in cod_in:\n",
    "        cod_in = \"nervous system disease\"\n",
    "    if \"asphyxiation\" in cod_in or \"strangulation\" in cod_in:\n",
    "        cod_in = \"asphyxiation\"\n",
    "    if \"embolism\" in cod_in or \"clot\" in cod_in:\n",
    "        cod_in = \"embolism\"\n",
    "    if \"hemorrhage\" in cod_in or \"haemorrhage\" in cod_in:\n",
    "        cod_in = \"hemorrhage\"\n",
    "    \n",
    "    cod_in = cod_in.lower()\n",
    "    cod_in = cod_in.strip()\n",
    "    \n",
    "    return cod_in"
   ]
  },
  {
   "cell_type": "code",
   "execution_count": 17,
   "metadata": {
    "scrolled": true
   },
   "outputs": [
    {
     "data": {
      "text/plain": [
       "cancer                        76\n",
       "organ failure                 28\n",
       "heart attack                  23\n",
       "pneumonia                     18\n",
       "stroke                        11\n",
       "suicide                        8\n",
       "lung disease                   7\n",
       "alzheimer's                    7\n",
       "heart disease                  6\n",
       "accident                       6\n",
       "vascular disease               4\n",
       "cardiac arrest                 4\n",
       "substance abuse                4\n",
       "embolism                       3\n",
       "diabetes                       3\n",
       "sepsis                         3\n",
       "dementia                       2\n",
       "nervous system disease         2\n",
       "aneurysm                       2\n",
       "complications from surgery     2\n",
       "asphyxiation                   2\n",
       "murder                         2\n",
       "hemorrhage                     2\n",
       "kidney disease                 1\n",
       "unknown                        1\n",
       "dengue fever                   1\n",
       "polymyalgia rheumatica         1\n",
       "sudden death                   1\n",
       "gunshot wounds                 1\n",
       "cerebral hypoxia               1\n",
       "Name: Cause of death, dtype: int64"
      ]
     },
     "execution_count": 17,
     "metadata": {},
     "output_type": "execute_result"
    }
   ],
   "source": [
    "# Apply standardizing function to \"Cause of death\" column\n",
    "df_cod2[\"Cause of death\"] = df_cod2[\"Cause of death\"].apply(standardize_cod)\n",
    "df_cod2[\"Cause of death\"].value_counts()"
   ]
  },
  {
   "cell_type": "markdown",
   "metadata": {},
   "source": [
    "After cleaning up the data, we get much fewer unique causes of death and we can now group by year and cause."
   ]
  },
  {
   "cell_type": "code",
   "execution_count": 18,
   "metadata": {
    "scrolled": true
   },
   "outputs": [
    {
     "data": {
      "text/plain": [
       "Death year  Cause of death            \n",
       "2004        cancer                        3\n",
       "            heart attack                  1\n",
       "            heart disease                 1\n",
       "            murder                        1\n",
       "            organ failure                 2\n",
       "            pneumonia                     2\n",
       "            sepsis                        1\n",
       "            stroke                        2\n",
       "            vascular disease              1\n",
       "2005        asphyxiation                  1\n",
       "            cancer                        3\n",
       "            complications from surgery    1\n",
       "            heart attack                  1\n",
       "            lung disease                  3\n",
       "            organ failure                 3\n",
       "            substance abuse               1\n",
       "2006        cancer                        4\n",
       "            heart attack                  1\n",
       "            organ failure                 2\n",
       "            pneumonia                     2\n",
       "            stroke                        2\n",
       "2007        accident                      1\n",
       "            cancer                        2\n",
       "            lung disease                  2\n",
       "            organ failure                 3\n",
       "            pneumonia                     1\n",
       "2008        aneurysm                      1\n",
       "            cancer                        8\n",
       "            diabetes                      1\n",
       "            heart attack                  1\n",
       "                                         ..\n",
       "2015        cancer                        2\n",
       "            diabetes                      2\n",
       "            heart attack                  3\n",
       "            heart disease                 1\n",
       "            lung disease                  1\n",
       "            organ failure                 3\n",
       "            pneumonia                     5\n",
       "            stroke                        1\n",
       "            suicide                       1\n",
       "2016        alzheimer's                   2\n",
       "            cancer                        9\n",
       "            cardiac arrest                1\n",
       "            embolism                      1\n",
       "            gunshot wounds                1\n",
       "            heart attack                  3\n",
       "            heart disease                 1\n",
       "            murder                        1\n",
       "            nervous system disease        1\n",
       "            organ failure                 1\n",
       "            pneumonia                     1\n",
       "            sepsis                        2\n",
       "            stroke                        2\n",
       "2017        accident                      1\n",
       "            alzheimer's                   2\n",
       "            cancer                        8\n",
       "            cardiac arrest                1\n",
       "            heart attack                  2\n",
       "            heart disease                 1\n",
       "            suicide                       2\n",
       "            vascular disease              1\n",
       "Length: 121, dtype: int64"
      ]
     },
     "execution_count": 18,
     "metadata": {},
     "output_type": "execute_result"
    }
   ],
   "source": [
    "# Group data by death year and cause of death\n",
    "grouped = df_cod2.groupby([\"Death year\", \"Cause of death\"])\n",
    "grouped.size()"
   ]
  },
  {
   "cell_type": "markdown",
   "metadata": {},
   "source": [
    "In a first attempt to visualize the cause of death data, the resulting plot is difficult to read because there are still so many different causes of death. Further refining cause of death categories is needed."
   ]
  },
  {
   "cell_type": "code",
   "execution_count": 19,
   "metadata": {},
   "outputs": [
    {
     "data": {
      "image/png": "[encoded data removed]",
      "text/plain": [
       "<matplotlib.figure.Figure at 0x11d676358>"
      ]
     },
     "metadata": {},
     "output_type": "display_data"
    }
   ],
   "source": [
    "# Visualizing causes of death by year\n",
    "# This is hard to read because there are so many different causes of death, but left here for reference\n",
    "grouped.size().unstack().fillna(0).plot(kind=\"bar\", stacked=True, figsize=(10,6)).legend(loc='center left', bbox_to_anchor=(1, 0.5))\n",
    "plt.show()"
   ]
  },
  {
   "cell_type": "markdown",
   "metadata": {},
   "source": [
    "We write another function to further classify each cause of death as either natural, unnatural, or unknown."
   ]
  },
  {
   "cell_type": "code",
   "execution_count": 20,
   "metadata": {
    "collapsed": true
   },
   "outputs": [],
   "source": [
    "# Function further simplifying cause of death\n",
    "# Following definition of \"unnatural death\" as seen on wiki page: https://en.wikipedia.org/wiki/Unnatural_death\n",
    "def classify_natural(cod_in):\n",
    "    if cod_in == \"unknown\" or cod_in == \"sudden death\":\n",
    "        return \"unknown\"\n",
    "    elif cod_in in [\"accident\", \"asphyxiation\", \"complications from surgery\", \"gunshot wounds\", \"murder\", \"substance abuse\", \"suicide\"]:\n",
    "        return \"unnatural death\"\n",
    "    else:\n",
    "        return \"natural death\""
   ]
  },
  {
   "cell_type": "code",
   "execution_count": 21,
   "metadata": {
    "scrolled": true
   },
   "outputs": [
    {
     "data": {
      "text/html": [
       "<div>\n",
       "<style>\n",
       "    .dataframe thead tr:only-child th {\n",
       "        text-align: right;\n",
       "    }\n",
       "\n",
       "    .dataframe thead th {\n",
       "        text-align: left;\n",
       "    }\n",
       "\n",
       "    .dataframe tbody tr th {\n",
       "        vertical-align: top;\n",
       "    }\n",
       "</style>\n",
       "<table border=\"1\" class=\"dataframe\">\n",
       "  <thead>\n",
       "    <tr style=\"text-align: right;\">\n",
       "      <th></th>\n",
       "      <th>Born</th>\n",
       "      <th>Died</th>\n",
       "      <th>Cause of death</th>\n",
       "      <th>Age at death</th>\n",
       "      <th>Death year</th>\n",
       "    </tr>\n",
       "  </thead>\n",
       "  <tbody>\n",
       "    <tr>\n",
       "      <th>0</th>\n",
       "      <td>1974-07-25</td>\n",
       "      <td>2011-05-10</td>\n",
       "      <td>natural death</td>\n",
       "      <td>36.0</td>\n",
       "      <td>2011</td>\n",
       "    </tr>\n",
       "    <tr>\n",
       "      <th>2</th>\n",
       "      <td>1947-05-14</td>\n",
       "      <td>2006-10-02</td>\n",
       "      <td>natural death</td>\n",
       "      <td>59.0</td>\n",
       "      <td>2006</td>\n",
       "    </tr>\n",
       "    <tr>\n",
       "      <th>4</th>\n",
       "      <td>1963-08-09</td>\n",
       "      <td>2012-02-11</td>\n",
       "      <td>unnatural death</td>\n",
       "      <td>48.0</td>\n",
       "      <td>2012</td>\n",
       "    </tr>\n",
       "    <tr>\n",
       "      <th>8</th>\n",
       "      <td>1972-01-13</td>\n",
       "      <td>2017-05-09</td>\n",
       "      <td>natural death</td>\n",
       "      <td>45.0</td>\n",
       "      <td>2017</td>\n",
       "    </tr>\n",
       "    <tr>\n",
       "      <th>9</th>\n",
       "      <td>1941-06-22</td>\n",
       "      <td>2006-11-09</td>\n",
       "      <td>natural death</td>\n",
       "      <td>65.0</td>\n",
       "      <td>2006</td>\n",
       "    </tr>\n",
       "    <tr>\n",
       "      <th>11</th>\n",
       "      <td>1936-09-27</td>\n",
       "      <td>2012-02-01</td>\n",
       "      <td>unnatural death</td>\n",
       "      <td>75.0</td>\n",
       "      <td>2012</td>\n",
       "    </tr>\n",
       "    <tr>\n",
       "      <th>13</th>\n",
       "      <td>1955-09-29</td>\n",
       "      <td>2016-11-14</td>\n",
       "      <td>natural death</td>\n",
       "      <td>61.0</td>\n",
       "      <td>2016</td>\n",
       "    </tr>\n",
       "    <tr>\n",
       "      <th>28</th>\n",
       "      <td>1922-05-13</td>\n",
       "      <td>2009-04-25</td>\n",
       "      <td>natural death</td>\n",
       "      <td>87.0</td>\n",
       "      <td>2009</td>\n",
       "    </tr>\n",
       "    <tr>\n",
       "      <th>30</th>\n",
       "      <td>1945-11-27</td>\n",
       "      <td>2013-12-31</td>\n",
       "      <td>unnatural death</td>\n",
       "      <td>68.0</td>\n",
       "      <td>2013</td>\n",
       "    </tr>\n",
       "    <tr>\n",
       "      <th>34</th>\n",
       "      <td>1915-12-22</td>\n",
       "      <td>2010-10-16</td>\n",
       "      <td>natural death</td>\n",
       "      <td>94.0</td>\n",
       "      <td>2010</td>\n",
       "    </tr>\n",
       "    <tr>\n",
       "      <th>37</th>\n",
       "      <td>1925-10-24</td>\n",
       "      <td>2014-04-02</td>\n",
       "      <td>unnatural death</td>\n",
       "      <td>88.0</td>\n",
       "      <td>2014</td>\n",
       "    </tr>\n",
       "    <tr>\n",
       "      <th>40</th>\n",
       "      <td>1927-10-20</td>\n",
       "      <td>2013-05-13</td>\n",
       "      <td>natural death</td>\n",
       "      <td>85.0</td>\n",
       "      <td>2013</td>\n",
       "    </tr>\n",
       "    <tr>\n",
       "      <th>46</th>\n",
       "      <td>1981-06-25</td>\n",
       "      <td>2011-04-17</td>\n",
       "      <td>natural death</td>\n",
       "      <td>29.0</td>\n",
       "      <td>2011</td>\n",
       "    </tr>\n",
       "    <tr>\n",
       "      <th>48</th>\n",
       "      <td>1938-04-04</td>\n",
       "      <td>2010-06-02</td>\n",
       "      <td>natural death</td>\n",
       "      <td>72.0</td>\n",
       "      <td>2010</td>\n",
       "    </tr>\n",
       "    <tr>\n",
       "      <th>49</th>\n",
       "      <td>1940-07-20</td>\n",
       "      <td>2016-09-11</td>\n",
       "      <td>natural death</td>\n",
       "      <td>76.0</td>\n",
       "      <td>2016</td>\n",
       "    </tr>\n",
       "    <tr>\n",
       "      <th>50</th>\n",
       "      <td>1925-02-13</td>\n",
       "      <td>2015-03-10</td>\n",
       "      <td>natural death</td>\n",
       "      <td>90.0</td>\n",
       "      <td>2015</td>\n",
       "    </tr>\n",
       "    <tr>\n",
       "      <th>54</th>\n",
       "      <td>1942-11-01</td>\n",
       "      <td>2013-10-25</td>\n",
       "      <td>natural death</td>\n",
       "      <td>71.0</td>\n",
       "      <td>2013</td>\n",
       "    </tr>\n",
       "    <tr>\n",
       "      <th>55</th>\n",
       "      <td>1957-04-23</td>\n",
       "      <td>2014-10-09</td>\n",
       "      <td>natural death</td>\n",
       "      <td>57.0</td>\n",
       "      <td>2014</td>\n",
       "    </tr>\n",
       "    <tr>\n",
       "      <th>56</th>\n",
       "      <td>1936-04-12</td>\n",
       "      <td>2011-10-05</td>\n",
       "      <td>natural death</td>\n",
       "      <td>75.0</td>\n",
       "      <td>2011</td>\n",
       "    </tr>\n",
       "    <tr>\n",
       "      <th>59</th>\n",
       "      <td>1931-03-26</td>\n",
       "      <td>2015-02-27</td>\n",
       "      <td>natural death</td>\n",
       "      <td>83.0</td>\n",
       "      <td>2015</td>\n",
       "    </tr>\n",
       "    <tr>\n",
       "      <th>61</th>\n",
       "      <td>1917-09-18</td>\n",
       "      <td>2017-07-26</td>\n",
       "      <td>natural death</td>\n",
       "      <td>99.0</td>\n",
       "      <td>2017</td>\n",
       "    </tr>\n",
       "    <tr>\n",
       "      <th>62</th>\n",
       "      <td>1921-10-17</td>\n",
       "      <td>2007-04-30</td>\n",
       "      <td>natural death</td>\n",
       "      <td>85.0</td>\n",
       "      <td>2007</td>\n",
       "    </tr>\n",
       "    <tr>\n",
       "      <th>63</th>\n",
       "      <td>1936-02-29</td>\n",
       "      <td>2015-07-18</td>\n",
       "      <td>natural death</td>\n",
       "      <td>79.0</td>\n",
       "      <td>2015</td>\n",
       "    </tr>\n",
       "    <tr>\n",
       "      <th>65</th>\n",
       "      <td>1932-02-27</td>\n",
       "      <td>2011-03-23</td>\n",
       "      <td>natural death</td>\n",
       "      <td>79.0</td>\n",
       "      <td>2011</td>\n",
       "    </tr>\n",
       "    <tr>\n",
       "      <th>68</th>\n",
       "      <td>1933-05-03</td>\n",
       "      <td>2006-12-25</td>\n",
       "      <td>natural death</td>\n",
       "      <td>73.0</td>\n",
       "      <td>2006</td>\n",
       "    </tr>\n",
       "    <tr>\n",
       "      <th>69</th>\n",
       "      <td>1917-01-24</td>\n",
       "      <td>2012-07-08</td>\n",
       "      <td>natural death</td>\n",
       "      <td>95.0</td>\n",
       "      <td>2012</td>\n",
       "    </tr>\n",
       "    <tr>\n",
       "      <th>70</th>\n",
       "      <td>1933-11-26</td>\n",
       "      <td>2007-10-30</td>\n",
       "      <td>natural death</td>\n",
       "      <td>73.0</td>\n",
       "      <td>2007</td>\n",
       "    </tr>\n",
       "    <tr>\n",
       "      <th>71</th>\n",
       "      <td>1920-01-06</td>\n",
       "      <td>2005-05-19</td>\n",
       "      <td>natural death</td>\n",
       "      <td>85.0</td>\n",
       "      <td>2005</td>\n",
       "    </tr>\n",
       "    <tr>\n",
       "      <th>72</th>\n",
       "      <td>1931-09-17</td>\n",
       "      <td>2005-06-06</td>\n",
       "      <td>natural death</td>\n",
       "      <td>73.0</td>\n",
       "      <td>2005</td>\n",
       "    </tr>\n",
       "    <tr>\n",
       "      <th>73</th>\n",
       "      <td>1923-10-04</td>\n",
       "      <td>2008-04-05</td>\n",
       "      <td>natural death</td>\n",
       "      <td>84.0</td>\n",
       "      <td>2008</td>\n",
       "    </tr>\n",
       "    <tr>\n",
       "      <th>...</th>\n",
       "      <td>...</td>\n",
       "      <td>...</td>\n",
       "      <td>...</td>\n",
       "      <td>...</td>\n",
       "      <td>...</td>\n",
       "    </tr>\n",
       "    <tr>\n",
       "      <th>762</th>\n",
       "      <td>1919-11-20</td>\n",
       "      <td>2012-08-14</td>\n",
       "      <td>natural death</td>\n",
       "      <td>92.0</td>\n",
       "      <td>2012</td>\n",
       "    </tr>\n",
       "    <tr>\n",
       "      <th>766</th>\n",
       "      <td>1928-12-09</td>\n",
       "      <td>2015-06-23</td>\n",
       "      <td>natural death</td>\n",
       "      <td>86.0</td>\n",
       "      <td>2015</td>\n",
       "    </tr>\n",
       "    <tr>\n",
       "      <th>767</th>\n",
       "      <td>1932-11-22</td>\n",
       "      <td>2016-11-11</td>\n",
       "      <td>natural death</td>\n",
       "      <td>84.0</td>\n",
       "      <td>2016</td>\n",
       "    </tr>\n",
       "    <tr>\n",
       "      <th>772</th>\n",
       "      <td>1937-09-26</td>\n",
       "      <td>2015-07-06</td>\n",
       "      <td>natural death</td>\n",
       "      <td>77.0</td>\n",
       "      <td>2015</td>\n",
       "    </tr>\n",
       "    <tr>\n",
       "      <th>776</th>\n",
       "      <td>1921-10-01</td>\n",
       "      <td>2009-02-06</td>\n",
       "      <td>natural death</td>\n",
       "      <td>87.0</td>\n",
       "      <td>2009</td>\n",
       "    </tr>\n",
       "    <tr>\n",
       "      <th>782</th>\n",
       "      <td>1946-04-07</td>\n",
       "      <td>2008-06-15</td>\n",
       "      <td>natural death</td>\n",
       "      <td>62.0</td>\n",
       "      <td>2008</td>\n",
       "    </tr>\n",
       "    <tr>\n",
       "      <th>783</th>\n",
       "      <td>1920-08-18</td>\n",
       "      <td>2006-01-14</td>\n",
       "      <td>natural death</td>\n",
       "      <td>85.0</td>\n",
       "      <td>2006</td>\n",
       "    </tr>\n",
       "    <tr>\n",
       "      <th>790</th>\n",
       "      <td>1934-12-13</td>\n",
       "      <td>2012-07-13</td>\n",
       "      <td>natural death</td>\n",
       "      <td>77.0</td>\n",
       "      <td>2012</td>\n",
       "    </tr>\n",
       "    <tr>\n",
       "      <th>794</th>\n",
       "      <td>1908-02-22</td>\n",
       "      <td>2005-04-23</td>\n",
       "      <td>natural death</td>\n",
       "      <td>97.0</td>\n",
       "      <td>2005</td>\n",
       "    </tr>\n",
       "    <tr>\n",
       "      <th>795</th>\n",
       "      <td>1943-05-27</td>\n",
       "      <td>2015-08-01</td>\n",
       "      <td>natural death</td>\n",
       "      <td>72.0</td>\n",
       "      <td>2015</td>\n",
       "    </tr>\n",
       "    <tr>\n",
       "      <th>796</th>\n",
       "      <td>1939-04-07</td>\n",
       "      <td>2013-08-31</td>\n",
       "      <td>natural death</td>\n",
       "      <td>74.0</td>\n",
       "      <td>2013</td>\n",
       "    </tr>\n",
       "    <tr>\n",
       "      <th>798</th>\n",
       "      <td>1934-01-14</td>\n",
       "      <td>2013-02-17</td>\n",
       "      <td>natural death</td>\n",
       "      <td>79.0</td>\n",
       "      <td>2013</td>\n",
       "    </tr>\n",
       "    <tr>\n",
       "      <th>805</th>\n",
       "      <td>1974-09-05</td>\n",
       "      <td>2010-09-28</td>\n",
       "      <td>unknown</td>\n",
       "      <td>36.0</td>\n",
       "      <td>2010</td>\n",
       "    </tr>\n",
       "    <tr>\n",
       "      <th>806</th>\n",
       "      <td>1943-11-06</td>\n",
       "      <td>2012-03-11</td>\n",
       "      <td>natural death</td>\n",
       "      <td>68.0</td>\n",
       "      <td>2012</td>\n",
       "    </tr>\n",
       "    <tr>\n",
       "      <th>807</th>\n",
       "      <td>1929-03-08</td>\n",
       "      <td>2012-09-29</td>\n",
       "      <td>natural death</td>\n",
       "      <td>83.0</td>\n",
       "      <td>2012</td>\n",
       "    </tr>\n",
       "    <tr>\n",
       "      <th>808</th>\n",
       "      <td>1958-08-12</td>\n",
       "      <td>2010-07-27</td>\n",
       "      <td>natural death</td>\n",
       "      <td>51.0</td>\n",
       "      <td>2010</td>\n",
       "    </tr>\n",
       "    <tr>\n",
       "      <th>812</th>\n",
       "      <td>1940-11-21</td>\n",
       "      <td>2010-11-18</td>\n",
       "      <td>natural death</td>\n",
       "      <td>70.0</td>\n",
       "      <td>2010</td>\n",
       "    </tr>\n",
       "    <tr>\n",
       "      <th>813</th>\n",
       "      <td>1927-03-11</td>\n",
       "      <td>2014-09-11</td>\n",
       "      <td>natural death</td>\n",
       "      <td>87.0</td>\n",
       "      <td>2014</td>\n",
       "    </tr>\n",
       "    <tr>\n",
       "      <th>816</th>\n",
       "      <td>1965-06-18</td>\n",
       "      <td>2006-07-25</td>\n",
       "      <td>natural death</td>\n",
       "      <td>41.0</td>\n",
       "      <td>2006</td>\n",
       "    </tr>\n",
       "    <tr>\n",
       "      <th>817</th>\n",
       "      <td>1940-04-06</td>\n",
       "      <td>2011-12-26</td>\n",
       "      <td>natural death</td>\n",
       "      <td>71.0</td>\n",
       "      <td>2011</td>\n",
       "    </tr>\n",
       "    <tr>\n",
       "      <th>818</th>\n",
       "      <td>1983-03-11</td>\n",
       "      <td>2016-11-23</td>\n",
       "      <td>unnatural death</td>\n",
       "      <td>33.0</td>\n",
       "      <td>2016</td>\n",
       "    </tr>\n",
       "    <tr>\n",
       "      <th>827</th>\n",
       "      <td>1962-06-16</td>\n",
       "      <td>2014-07-04</td>\n",
       "      <td>natural death</td>\n",
       "      <td>52.0</td>\n",
       "      <td>2014</td>\n",
       "    </tr>\n",
       "    <tr>\n",
       "      <th>829</th>\n",
       "      <td>1947-05-29</td>\n",
       "      <td>2013-05-12</td>\n",
       "      <td>natural death</td>\n",
       "      <td>66.0</td>\n",
       "      <td>2013</td>\n",
       "    </tr>\n",
       "    <tr>\n",
       "      <th>830</th>\n",
       "      <td>1938-08-03</td>\n",
       "      <td>2016-01-31</td>\n",
       "      <td>natural death</td>\n",
       "      <td>77.0</td>\n",
       "      <td>2016</td>\n",
       "    </tr>\n",
       "    <tr>\n",
       "      <th>831</th>\n",
       "      <td>1916-11-04</td>\n",
       "      <td>2009-07-17</td>\n",
       "      <td>natural death</td>\n",
       "      <td>92.0</td>\n",
       "      <td>2009</td>\n",
       "    </tr>\n",
       "    <tr>\n",
       "      <th>837</th>\n",
       "      <td>1923-09-16</td>\n",
       "      <td>2015-03-23</td>\n",
       "      <td>natural death</td>\n",
       "      <td>91.0</td>\n",
       "      <td>2015</td>\n",
       "    </tr>\n",
       "    <tr>\n",
       "      <th>840</th>\n",
       "      <td>1988-10-28</td>\n",
       "      <td>2012-03-25</td>\n",
       "      <td>natural death</td>\n",
       "      <td>23.0</td>\n",
       "      <td>2012</td>\n",
       "    </tr>\n",
       "    <tr>\n",
       "      <th>841</th>\n",
       "      <td>1932-09-27</td>\n",
       "      <td>2012-01-08</td>\n",
       "      <td>natural death</td>\n",
       "      <td>79.0</td>\n",
       "      <td>2012</td>\n",
       "    </tr>\n",
       "    <tr>\n",
       "      <th>842</th>\n",
       "      <td>1977-11-03</td>\n",
       "      <td>2015-01-17</td>\n",
       "      <td>unnatural death</td>\n",
       "      <td>37.0</td>\n",
       "      <td>2015</td>\n",
       "    </tr>\n",
       "    <tr>\n",
       "      <th>844</th>\n",
       "      <td>1960-10-23</td>\n",
       "      <td>2008-07-25</td>\n",
       "      <td>natural death</td>\n",
       "      <td>47.0</td>\n",
       "      <td>2008</td>\n",
       "    </tr>\n",
       "  </tbody>\n",
       "</table>\n",
       "<p>232 rows × 5 columns</p>\n",
       "</div>"
      ],
      "text/plain": [
       "          Born       Died   Cause of death  Age at death  Death year\n",
       "0   1974-07-25 2011-05-10    natural death          36.0        2011\n",
       "2   1947-05-14 2006-10-02    natural death          59.0        2006\n",
       "4   1963-08-09 2012-02-11  unnatural death          48.0        2012\n",
       "8   1972-01-13 2017-05-09    natural death          45.0        2017\n",
       "9   1941-06-22 2006-11-09    natural death          65.0        2006\n",
       "11  1936-09-27 2012-02-01  unnatural death          75.0        2012\n",
       "13  1955-09-29 2016-11-14    natural death          61.0        2016\n",
       "28  1922-05-13 2009-04-25    natural death          87.0        2009\n",
       "30  1945-11-27 2013-12-31  unnatural death          68.0        2013\n",
       "34  1915-12-22 2010-10-16    natural death          94.0        2010\n",
       "37  1925-10-24 2014-04-02  unnatural death          88.0        2014\n",
       "40  1927-10-20 2013-05-13    natural death          85.0        2013\n",
       "46  1981-06-25 2011-04-17    natural death          29.0        2011\n",
       "48  1938-04-04 2010-06-02    natural death          72.0        2010\n",
       "49  1940-07-20 2016-09-11    natural death          76.0        2016\n",
       "50  1925-02-13 2015-03-10    natural death          90.0        2015\n",
       "54  1942-11-01 2013-10-25    natural death          71.0        2013\n",
       "55  1957-04-23 2014-10-09    natural death          57.0        2014\n",
       "56  1936-04-12 2011-10-05    natural death          75.0        2011\n",
       "59  1931-03-26 2015-02-27    natural death          83.0        2015\n",
       "61  1917-09-18 2017-07-26    natural death          99.0        2017\n",
       "62  1921-10-17 2007-04-30    natural death          85.0        2007\n",
       "63  1936-02-29 2015-07-18    natural death          79.0        2015\n",
       "65  1932-02-27 2011-03-23    natural death          79.0        2011\n",
       "68  1933-05-03 2006-12-25    natural death          73.0        2006\n",
       "69  1917-01-24 2012-07-08    natural death          95.0        2012\n",
       "70  1933-11-26 2007-10-30    natural death          73.0        2007\n",
       "71  1920-01-06 2005-05-19    natural death          85.0        2005\n",
       "72  1931-09-17 2005-06-06    natural death          73.0        2005\n",
       "73  1923-10-04 2008-04-05    natural death          84.0        2008\n",
       "..         ...        ...              ...           ...         ...\n",
       "762 1919-11-20 2012-08-14    natural death          92.0        2012\n",
       "766 1928-12-09 2015-06-23    natural death          86.0        2015\n",
       "767 1932-11-22 2016-11-11    natural death          84.0        2016\n",
       "772 1937-09-26 2015-07-06    natural death          77.0        2015\n",
       "776 1921-10-01 2009-02-06    natural death          87.0        2009\n",
       "782 1946-04-07 2008-06-15    natural death          62.0        2008\n",
       "783 1920-08-18 2006-01-14    natural death          85.0        2006\n",
       "790 1934-12-13 2012-07-13    natural death          77.0        2012\n",
       "794 1908-02-22 2005-04-23    natural death          97.0        2005\n",
       "795 1943-05-27 2015-08-01    natural death          72.0        2015\n",
       "796 1939-04-07 2013-08-31    natural death          74.0        2013\n",
       "798 1934-01-14 2013-02-17    natural death          79.0        2013\n",
       "805 1974-09-05 2010-09-28          unknown          36.0        2010\n",
       "806 1943-11-06 2012-03-11    natural death          68.0        2012\n",
       "807 1929-03-08 2012-09-29    natural death          83.0        2012\n",
       "808 1958-08-12 2010-07-27    natural death          51.0        2010\n",
       "812 1940-11-21 2010-11-18    natural death          70.0        2010\n",
       "813 1927-03-11 2014-09-11    natural death          87.0        2014\n",
       "816 1965-06-18 2006-07-25    natural death          41.0        2006\n",
       "817 1940-04-06 2011-12-26    natural death          71.0        2011\n",
       "818 1983-03-11 2016-11-23  unnatural death          33.0        2016\n",
       "827 1962-06-16 2014-07-04    natural death          52.0        2014\n",
       "829 1947-05-29 2013-05-12    natural death          66.0        2013\n",
       "830 1938-08-03 2016-01-31    natural death          77.0        2016\n",
       "831 1916-11-04 2009-07-17    natural death          92.0        2009\n",
       "837 1923-09-16 2015-03-23    natural death          91.0        2015\n",
       "840 1988-10-28 2012-03-25    natural death          23.0        2012\n",
       "841 1932-09-27 2012-01-08    natural death          79.0        2012\n",
       "842 1977-11-03 2015-01-17  unnatural death          37.0        2015\n",
       "844 1960-10-23 2008-07-25    natural death          47.0        2008\n",
       "\n",
       "[232 rows x 5 columns]"
      ]
     },
     "execution_count": 21,
     "metadata": {},
     "output_type": "execute_result"
    }
   ],
   "source": [
    "# Copy data frame and apply function\n",
    "df_cod3 = df_cod2.copy()\n",
    "df_cod3[\"Cause of death\"] = df_cod3[\"Cause of death\"].apply(classify_natural)\n",
    "df_cod3"
   ]
  },
  {
   "cell_type": "markdown",
   "metadata": {},
   "source": [
    "After refining the causes of death, we group by year and type once more and plot the data. Looking at the plot below, we see that the number of unnatural deaths in 2016 is not unusual compared to other years."
   ]
  },
  {
   "cell_type": "code",
   "execution_count": 22,
   "metadata": {
    "scrolled": true
   },
   "outputs": [
    {
     "data": {
      "text/plain": [
       "Death year  Cause of death \n",
       "2004        natural death      13\n",
       "            unnatural death     1\n",
       "2005        natural death      10\n",
       "            unnatural death     3\n",
       "2006        natural death      11\n",
       "2007        natural death       8\n",
       "            unnatural death     1\n",
       "2008        natural death      17\n",
       "            unknown             1\n",
       "2009        natural death       9\n",
       "            unnatural death     1\n",
       "2010        natural death      18\n",
       "            unknown             1\n",
       "            unnatural death     2\n",
       "2011        natural death      13\n",
       "            unnatural death     1\n",
       "2012        natural death      21\n",
       "            unnatural death     4\n",
       "2013        natural death      15\n",
       "            unnatural death     2\n",
       "2014        natural death      13\n",
       "            unnatural death     3\n",
       "2015        natural death      18\n",
       "            unnatural death     2\n",
       "2016        natural death      24\n",
       "            unnatural death     2\n",
       "2017        natural death      15\n",
       "            unnatural death     3\n",
       "dtype: int64"
      ]
     },
     "execution_count": 22,
     "metadata": {},
     "output_type": "execute_result"
    }
   ],
   "source": [
    "# Group data by death year and cause of death\n",
    "grouped2 = df_cod3.groupby([\"Death year\", \"Cause of death\"])\n",
    "grouped2.size()"
   ]
  },
  {
   "cell_type": "code",
   "execution_count": 23,
   "metadata": {
    "scrolled": false
   },
   "outputs": [
    {
     "data": {
      "image/png": "[encoded data removed]",
      "text/plain": [
       "<matplotlib.figure.Figure at 0x11d701c18>"
      ]
     },
     "metadata": {},
     "output_type": "display_data"
    }
   ],
   "source": [
    "# Plot causes of death by year\n",
    "grouped2.size().unstack().plot(kind=\"bar\", stacked=True, figsize=(8,6))\n",
    "plt.show()"
   ]
  },
  {
   "cell_type": "markdown",
   "metadata": {},
   "source": [
    "Through analysis of death data, it appears that 2016 was not that unusual compared to other years in terms of the age at which celebrities passed away and the causes of death. "
   ]
  },
  {
   "cell_type": "markdown",
   "metadata": {
    "collapsed": true
   },
   "source": [
    "# Privacy/Ethics Considerations"
   ]
  },
  {
   "cell_type": "markdown",
   "metadata": {},
   "source": [
    "We have permission to utilize these datasets as most of our data is from open sourced websites and are open to public use. Due to celebrities being public figures, it is unlikely that we would encounter any additional privacy issues due the data being dependent on social media trends and their deaths. Because we are allowing wikipedia to define our definition of a celebrity, It is possible that what constitutes a “celebrity” might vary from person to person. This can potentially cause our data to become more confusing as some of the deaths contributing to the dataset might not lead to substantial social media trends compared to other deaths. This could skew that data in that the deaths in a year were notable, but not well-known to American media and public."
   ]
  },
  {
   "cell_type": "markdown",
   "metadata": {},
   "source": [
    "# Conclusions and Discussion"
   ]
  },
  {
   "cell_type": "markdown",
   "metadata": {},
   "source": [
    "From our data analyisis we found that there was a positive weak correlation between social media trends and deaths. The year 2016 had a larger number of popular celebrity deaths and a larger overall number of celebrity deaths from 2004 onwards. This leads us to believe that our initial hypothesis was incorrect and that the wide usage of social media and the internet was not the reason for believing that 2016 had more celebrity deaths than in the past. This contributes to the possiblity that perhaps social media and the internet can aid in public awareness of noteworthy statistical occurences.\n",
    "\n",
    "As a way to further pursue this topic, analysis could be also be applied in separate regions throughout 2016 to determine internet popularity rather than globally. This could lead to more nuance in the number of celebrity deaths with positive social media trends. The large number of celebrity deaths in 2016 could possibly be because of the number of popular figures born 60 to 80 years ago, in which lifespans coincide with the digital age today, further analysis would also look at birth years as well, to determine if there is a notable trend."
   ]
  }
 ],
 "metadata": {
  "kernelspec": {
   "display_name": "Python 3",
   "language": "python",
   "name": "python3"
  },
  "language_info": {
   "codemirror_mode": {
    "name": "ipython",
    "version": 3
   },
   "file_extension": ".py",
   "mimetype": "text/x-python",
   "name": "python",
   "nbconvert_exporter": "python",
   "pygments_lexer": "ipython3",
   "version": "3.6.3"
  }
 },
 "nbformat": 4,
 "nbformat_minor": 2
}
