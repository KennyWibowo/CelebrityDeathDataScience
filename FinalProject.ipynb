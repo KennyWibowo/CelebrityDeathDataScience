{
 "cells": [
  {
   "cell_type": "markdown",
   "metadata": {},
   "source": [
    "# COGS 108 - Final Project\n"
   ]
  },
  {
   "cell_type": "markdown",
   "metadata": {},
   "source": [
    "# Group Members:"
   ]
  },
  {
   "cell_type": "markdown",
   "metadata": {},
   "source": [
    "Name, PID, Project Contribution\n",
    "\n",
    "- Kenny Wibowo - A12030884 - Data Cleaning, Data Parsing\n",
    "- Varun Sujit - A11886049 - Written Sections and Organization, Data Visualization\n",
    "- Angela Xu - A12413011 - \n",
    "- Aarjav Kothari - A91087718 -\n",
    "- Joseph Thomas - A12008739 - Data Cleaning, Data Analysis"
   ]
  },
  {
   "cell_type": "markdown",
   "metadata": {},
   "source": [
    "# Introduction and Background"
   ]
  },
  {
   "cell_type": "markdown",
   "metadata": {},
   "source": [
    "For many on the internet, it seemed as though 2016 was a particularly awful year due to the deaths of many beloved actors, musician, and other celebrities. However, it may not actually be the case that 2016 had an unusually high number of celebrity deaths. Snopes examined the number of notable deaths reported by various news outlets in 2016 and in previous years and saw that while several news outlets reported more deaths in 2016 than in other years, the differences were not unusually high. This also does not necessarily mean than more celebrities are dying but rather it could be that news outlets are reporting more celebrity deaths in recent years. According to The Guardian, social media has contributed in amplifying emotional response after a celebrity death due to the speed at which news travels on these websites and apps as well as social media bringing people closer to the celebrities they adore. Time Magazine suggests that it is not the number of celebrity deaths that made 2016 unusual but rather the fact that many of the celebrities that passed away were particularly notable, which makes it seem like 2016 was worse than previous years.\n",
    "\n",
    "The Telegraph also discusses some theories about why so many celebrities seemed to die in 2016. It could be that more people are dying in general or more people are being considered celebrities. It is also possible that many celebrities had unhealthy lifestyles that ultimately contributed to their untimely deaths. People’s perceptions could also have been affected due to celebrities dying on the same day or within days of each other. We also once again get the theory that social media amplifies celebrity deaths.\n",
    "\n",
    "For our project, we will be examining the social media theory in particular. Since we get news spreads almost instantly through social media platforms and these platforms provide millions of people a place to express their emotions, it is quite plausible that social media has skewed people’s perceptions regarding the number of celebrity deaths.\n",
    "\n",
    "In other words, our main question is this: What is the total number of significant celebrities that passed away in 2016, compared to other years? How has social media impacted our bias of noting these deaths? We propose that that although it may be true that a significant number of celebrities passed away in 2016, the introduction of modern media, especially through social mediums such as Facebook and Reddit, has caused a sense of “over sensationalization” that biased our judgement of how many celebrities passed away in 2016 compared to other years.\n",
    "\n",
    "References: 1)https://www.snopes.com/2016/12/28/2016-the-deadliest-year-for-celebrities/ 2)http://www.telegraph.co.uk/men/thinking-man/why-are-so-many-celebrities-dying-in-2016/"
   ]
  },
  {
   "cell_type": "markdown",
   "metadata": {},
   "source": [
    "# Data Description"
   ]
  },
  {
   "cell_type": "markdown",
   "metadata": {},
   "source": [
    "For context of this project, we are considering every individual that is present in a category or list in https://en.wikipedia.org/wiki/Lists_of_celebrities as a celebrity. Our data is comprised of lists of celebrities, and their relevence via pytrends, an API that queries google trends (https://trends.google.com/trends/). As a result, we need to parse through every link in the list recursively, and extract the list of celebrities that are deceased. The html parsing is done by using BeautifulSoup. This data will then be stored in a JSON file which can easily be converted into a pandas dataframe for future analysis. The pytrends API, allows users to query google trends with a list of keywords. The popularity of each key word is then compared to the other, returning numerical values in proportion to the other. For example if one keyword has a value 100 and the other 50, this means that the former is twice as popular for that particular day/time. This means in order for our data to proportionally the same across multiple queries, each celebrity must be queried along with a constant keyword, one that has a preferably stable popularity."
   ]
  },
  {
   "cell_type": "markdown",
   "metadata": {},
   "source": [
    "## Data Cleaning/Pre-processing"
   ]
  },
  {
   "cell_type": "markdown",
   "metadata": {},
   "source": [
    "The first step in our project is to import our dependencies"
   ]
  },
  {
   "cell_type": "code",
   "execution_count": 56,
   "metadata": {},
   "outputs": [
    {
     "name": "stderr",
     "output_type": "stream",
     "text": [
      "/anaconda3/lib/python3.6/site-packages/statsmodels/compat/pandas.py:56: FutureWarning: The pandas.core.datetools module is deprecated and will be removed in a future version. Please use the pandas.tseries module instead.\n",
      "  from pandas.core import datetools\n"
     ]
    }
   ],
   "source": [
    "import pandas as pd\n",
    "import requests\n",
    "import bs4\n",
    "from bs4 import BeautifulSoup\n",
    "from urllib.parse import urlparse\n",
    "from collections import deque\n",
    "from pytrends.request import TrendReq\n",
    "from datetime import datetime\n",
    "import time\n",
    "from collections import defaultdict\n",
    "from collections import OrderedDict\n",
    "import matplotlib.pyplot as plt\n",
    "import numpy as np\n",
    "import patsy\n",
    "import statsmodels.api as sm\n",
    "import scipy.stats as stats"
   ]
  },
  {
   "cell_type": "code",
   "execution_count": 87,
   "metadata": {},
   "outputs": [
    {
     "name": "stdout",
     "output_type": "stream",
     "text": [
      "Requirement already satisfied: pytrends in /Users/joseph/anaconda3/lib/python3.6/site-packages\n",
      "Requirement already satisfied: lxml in /Users/joseph/anaconda3/lib/python3.6/site-packages (from pytrends)\n",
      "Requirement already satisfied: requests in /Users/joseph/anaconda3/lib/python3.6/site-packages (from pytrends)\n",
      "Requirement already satisfied: pandas in /Users/joseph/anaconda3/lib/python3.6/site-packages (from pytrends)\n",
      "Requirement already satisfied: chardet<3.1.0,>=3.0.2 in /Users/joseph/anaconda3/lib/python3.6/site-packages (from requests->pytrends)\n",
      "Requirement already satisfied: idna<2.7,>=2.5 in /Users/joseph/anaconda3/lib/python3.6/site-packages (from requests->pytrends)\n",
      "Requirement already satisfied: urllib3<1.23,>=1.21.1 in /Users/joseph/anaconda3/lib/python3.6/site-packages (from requests->pytrends)\n",
      "Requirement already satisfied: certifi>=2017.4.17 in /Users/joseph/anaconda3/lib/python3.6/site-packages (from requests->pytrends)\n",
      "Requirement already satisfied: python-dateutil>=2 in /Users/joseph/anaconda3/lib/python3.6/site-packages (from pandas->pytrends)\n",
      "Requirement already satisfied: pytz>=2011k in /Users/joseph/anaconda3/lib/python3.6/site-packages (from pandas->pytrends)\n",
      "Requirement already satisfied: numpy>=1.7.0 in /Users/joseph/anaconda3/lib/python3.6/site-packages (from pandas->pytrends)\n",
      "Requirement already satisfied: six>=1.5 in /Users/joseph/anaconda3/lib/python3.6/site-packages (from python-dateutil>=2->pandas->pytrends)\n",
      "\u001b[33mYou are using pip version 9.0.1, however version 9.0.2 is available.\n",
      "You should consider upgrading via the 'pip install --upgrade pip' command.\u001b[0m\n"
     ]
    }
   ],
   "source": [
    "import sys\n",
    "!{sys.executable} -m pip install pytrends"
   ]
  },
  {
   "cell_type": "markdown",
   "metadata": {},
   "source": [
    "First, we will define a helper function that we will use to return the celebrity name and death date, along with any other features we would like to extract. \n",
    "\n",
    "If we pass in any page that isn't a wikipedia page of a deceased notable celebrity (as per our definition), the function will return `None`."
   ]
  },
  {
   "cell_type": "code",
   "execution_count": 2,
   "metadata": {
    "collapsed": true
   },
   "outputs": [],
   "source": [
    "def get_death_date(soup):\n",
    "    table_selector = soup.select('table.infobox.vcard')\n",
    "\n",
    "    if table_selector:\n",
    "        table = table_selector[0]\n",
    "        \n",
    "        # Important features we would like to handle specially\n",
    "        name = table.find('span', class_='fn')\n",
    "        born = table.find('span', class_='bday')\n",
    "        died = table.find('span', class_='dday deathdate')\n",
    "        \n",
    "        # Only return if the person has a name, has born data, and died\n",
    "        if name and born and died:\n",
    "            data =  {'Name': name.text, 'Born': born.text, 'Died': died.text}\n",
    "            \n",
    "            # Extract other features that we would like to keep.\n",
    "            rows = table.find_all('tr')\n",
    "            for row in rows:\n",
    "                header = row.find('th')\n",
    "                datum = row.find('td')\n",
    "                if header and datum and header.text not in data:\n",
    "                    data[header.text.replace('\\xa0', ' ').strip()] = datum.get_text(' ', strip=True)\n",
    "                    \n",
    "            return data\n",
    "        \n",
    "    return None"
   ]
  },
  {
   "cell_type": "markdown",
   "metadata": {},
   "source": [
    "Then, we will recursively traverse the links through Breadth First Search and visit all Wikipedia links reachable from the 'List of Celebrities' page. "
   ]
  },
  {
   "cell_type": "code",
   "execution_count": 3,
   "metadata": {},
   "outputs": [
    {
     "name": "stdout",
     "output_type": "stream",
     "text": [
      "100.00% - 0 left, 2966 recorded.                            \r"
     ]
    }
   ],
   "source": [
    "# Breadth First Search traversal.\n",
    "\n",
    "wikipedia_url = 'https://en.wikipedia.org'\n",
    "starting_endpoint = '/wiki/Lists_of_celebrities'\n",
    "click_limit = 2\n",
    "\n",
    "# Dictionary of visited links\n",
    "# 'url' -> number of clicks taken to get to link\n",
    "links_visited = {starting_endpoint: 0} \n",
    "# Queue of links to visit\n",
    "links_queue = deque()\n",
    "links_queue.appendleft(starting_endpoint)\n",
    "\n",
    "# Create a buffer of dataframes\n",
    "data_buffer = deque()\n",
    "\n",
    "# Debug info\n",
    "num_visited = 0\n",
    "\n",
    "# Find all links on the page that lead to another wikipedia page.\n",
    "while links_queue:\n",
    "    link = links_queue.pop()\n",
    "    page = requests.get(wikipedia_url + link)\n",
    "    soup = BeautifulSoup(page.content, 'html.parser')\n",
    "    num_visited += 1\n",
    "    \n",
    "    # Debug info\n",
    "    if links_visited[link] >= click_limit - 1:\n",
    "        num_links = len(links_visited)\n",
    "        num_deads = len(data_buffer)\n",
    "        percentage = format(100.0*(float(num_visited)/num_links), '.2f')\n",
    "        print((percentage + \"% - \" + str(len(links_queue)) + \" left, \" + str(num_deads) + \" recorded.\").ljust(60),  end='\\r', flush=True)\n",
    "    else:\n",
    "        print(\"Loading initial pages...\", end='\\r', flush=True)\n",
    "    \n",
    "    # See if page is of deceased person - if so, get the data\n",
    "    results = get_death_date(soup)\n",
    "    \n",
    "    # Append to dataframe buffer if we've found a match\n",
    "    if results:\n",
    "        data_buffer.append(pd.DataFrame([results]))\n",
    "    \n",
    "    # Break early on click limit or if page isn't a list\n",
    "    if links_visited[link] == click_limit or (\"List\" not in link and \"Category:\" not in link):\n",
    "        continue\n",
    "    \n",
    "    content = soup.find('div', id='content')\n",
    "    \n",
    "    # Continue BFS on links in the page\n",
    "    if content:\n",
    "        for candidate in content.findAll('a'):\n",
    "            if 'href' in candidate.attrs:\n",
    "                link_in_page = urlparse(candidate.attrs['href']).path\n",
    "                                \n",
    "                # Add to queue if it's a link we haven't seen before.\n",
    "                if link_in_page not in links_visited and link_in_page.startswith('/wiki/') and 'File' not in link_in_page:\n",
    "                    links_visited[link_in_page] = links_visited[link] + 1\n",
    "                    links_queue.appendleft(link_in_page)\n",
    "\n",
    "# Concatenate all of the buffer into the dataframe that holds our celebrity data\n",
    "df_celebrities = pd.concat(data_buffer)"
   ]
  },
  {
   "cell_type": "markdown",
   "metadata": {},
   "source": [
    "Since this takes such a long time, we will run this once and cache it into a JSON file. All subsequent operations will be run off of the loaded JSON file."
   ]
  },
  {
   "cell_type": "code",
   "execution_count": 112,
   "metadata": {},
   "outputs": [
    {
     "ename": "NameError",
     "evalue": "name 'df_celebrities' is not defined",
     "output_type": "error",
     "traceback": [
      "\u001b[0;31m---------------------------------------------------------------------------\u001b[0m",
      "\u001b[0;31mNameError\u001b[0m                                 Traceback (most recent call last)",
      "\u001b[0;32m<ipython-input-112-e90a05a94c5f>\u001b[0m in \u001b[0;36m<module>\u001b[0;34m()\u001b[0m\n\u001b[1;32m      1\u001b[0m \u001b[0;32mwith\u001b[0m \u001b[0mopen\u001b[0m\u001b[0;34m(\u001b[0m\u001b[0;34m'celebrities.json'\u001b[0m\u001b[0;34m,\u001b[0m \u001b[0;34m'w'\u001b[0m\u001b[0;34m)\u001b[0m \u001b[0;32mas\u001b[0m \u001b[0mfile\u001b[0m\u001b[0;34m:\u001b[0m\u001b[0;34m\u001b[0m\u001b[0m\n\u001b[0;32m----> 2\u001b[0;31m     \u001b[0mfile\u001b[0m\u001b[0;34m.\u001b[0m\u001b[0mwrite\u001b[0m\u001b[0;34m(\u001b[0m\u001b[0mdf_celebrities\u001b[0m\u001b[0;34m.\u001b[0m\u001b[0mto_json\u001b[0m\u001b[0;34m(\u001b[0m\u001b[0morient\u001b[0m\u001b[0;34m=\u001b[0m\u001b[0;34m'records'\u001b[0m\u001b[0;34m)\u001b[0m\u001b[0;34m)\u001b[0m\u001b[0;34m\u001b[0m\u001b[0m\n\u001b[0m",
      "\u001b[0;31mNameError\u001b[0m: name 'df_celebrities' is not defined"
     ]
    }
   ],
   "source": [
    "with open('celebrities.json', 'w') as file:\n",
    "    file.write(df_celebrities.to_json(orient='records'))"
   ]
  },
  {
   "cell_type": "markdown",
   "metadata": {},
   "source": [
    "Now, we can read the file back in as the JSON in order to circumvent the crawling process for future usage."
   ]
  },
  {
   "cell_type": "code",
   "execution_count": 120,
   "metadata": {
    "collapsed": true
   },
   "outputs": [],
   "source": [
    "df_celebrities = pd.read_json(\"celebrities.json\", orient=\"records\")"
   ]
  },
  {
   "cell_type": "code",
   "execution_count": 121,
   "metadata": {
    "collapsed": true
   },
   "outputs": [],
   "source": [
    "date_objects = []\n",
    "\n",
    "base_date = datetime.strptime(\"2004-01-01\", \"%Y-%m-%d\")\n",
    "\n",
    "for date in df_celebrities[\"Died\"]:\n",
    "    date_objects.append(datetime.strptime(date, \"%Y-%m-%d\"))\n",
    "df_celebrities[\"Died\"] = date_objects\n",
    "\n",
    "\n",
    "df_valid = df_celebrities[df_celebrities[\"Died\"] >= base_date]"
   ]
  },
  {
   "cell_type": "markdown",
   "metadata": {},
   "source": [
    "Since pytrends records begin in 2004, we will discard any deaths that happened before that. This leaves us with 846 celebrities that died from 2004-01-01 to present."
   ]
  },
  {
   "cell_type": "code",
   "execution_count": 122,
   "metadata": {},
   "outputs": [
    {
     "name": "stdout",
     "output_type": "stream",
     "text": [
      "Celebrity trends parsed = 846\r"
     ]
    },
    {
     "name": "stderr",
     "output_type": "stream",
     "text": [
      "/Users/joseph/anaconda3/lib/python3.6/site-packages/ipykernel_launcher.py:58: SettingWithCopyWarning: \n",
      "A value is trying to be set on a copy of a slice from a DataFrame.\n",
      "Try using .loc[row_indexer,col_indexer] = value instead\n",
      "\n",
      "See the caveats in the documentation: http://pandas.pydata.org/pandas-docs/stable/indexing.html#indexing-view-versus-copy\n",
      "/Users/joseph/anaconda3/lib/python3.6/site-packages/ipykernel_launcher.py:59: SettingWithCopyWarning: \n",
      "A value is trying to be set on a copy of a slice from a DataFrame.\n",
      "Try using .loc[row_indexer,col_indexer] = value instead\n",
      "\n",
      "See the caveats in the documentation: http://pandas.pydata.org/pandas-docs/stable/indexing.html#indexing-view-versus-copy\n",
      "/Users/joseph/anaconda3/lib/python3.6/site-packages/ipykernel_launcher.py:60: SettingWithCopyWarning: \n",
      "A value is trying to be set on a copy of a slice from a DataFrame.\n",
      "Try using .loc[row_indexer,col_indexer] = value instead\n",
      "\n",
      "See the caveats in the documentation: http://pandas.pydata.org/pandas-docs/stable/indexing.html#indexing-view-versus-copy\n"
     ]
    }
   ],
   "source": [
    "#Search word to compare it to\n",
    "comparator = \"Grand Canyon\"\n",
    "\n",
    "#Open the pytrends request\n",
    "pytrends = TrendReq(hl='en-US', tz=360)\n",
    "\n",
    "#Create a list for the new column in the table\n",
    "trends = []\n",
    "comparator_average_trends = []\n",
    "trend_ratio = []\n",
    "\n",
    "#Find the relative trend at time of death compared to comparator\n",
    "#Comparator relative trend value taken from 2004-01-01\n",
    "def relative_trend(name, died):\n",
    "    #Enter the name for searching the trend\n",
    "    kw_list = [comparator, name]\n",
    "    #Get a dataframe of the relative trends\n",
    "    e_catcher = 0\n",
    "    while e_catcher == 0:\n",
    "        try:\n",
    "            pytrends.build_payload(kw_list, timeframe='all')\n",
    "            df_py = pytrends.interest_over_time()\n",
    "            e_catcher = 1\n",
    "        except:\n",
    "            time.sleep(3600)\n",
    "    cv = df_py[comparator].tolist()\n",
    "    comparator_avg = sum(cv)/float(len(cv))\n",
    "    trend = df_py[(df_py.index.month == died.month) & (df_py.index.year == died.year)][name].iloc[0]\n",
    "    trend_ratio = trend/comparator_avg\n",
    "    return trend, comparator_avg, trend_ratio\n",
    "    \n",
    "\n",
    "#Loop through and find all the trends relative to grand canyon\n",
    "counter = 0\n",
    "for name, died in zip(df_valid[\"Name\"], df_valid[\"Died\"]):\n",
    "    #Check if there are more than two parts to the name\n",
    "    name_split = name.split(\" \")\n",
    "    name_split_len = len(name_split)\n",
    "    shortened_name = name_split[0] + \" \" + name_split[name_split_len-1]\n",
    "    if  name_split_len > 2:\n",
    "        long_rt, cvl, trl = relative_trend(name,died)\n",
    "        short_rt, cvs, trs = relative_trend(shortened_name,died)\n",
    "        if long_rt > short_rt:\n",
    "            trends.append(long_rt)\n",
    "            comparator_average_trends.append(cvl)\n",
    "            trend_ratio.append(trl)\n",
    "        else:\n",
    "            trends.append(short_rt)\n",
    "            comparator_average_trends.append(cvs)\n",
    "            trend_ratio.append(trs)\n",
    "    else:\n",
    "        trend, cv, tr = relative_trend(name,died)\n",
    "        trends.append(trend)\n",
    "        comparator_average_trends.append(cv)\n",
    "        trend_ratio.append(tr)\n",
    "    counter += 1\n",
    "    print((\"Celebrity trends parsed = \" + str(counter)), end='\\r', flush=True)\n",
    "df_valid['Trends'] = trends\n",
    "df_valid['Comp_Average'] = comparator_average_trends\n",
    "df_valid['Trend_Ratio'] = trend_ratio"
   ]
  },
  {
   "cell_type": "code",
   "execution_count": 123,
   "metadata": {
    "collapsed": true
   },
   "outputs": [],
   "source": [
    "with open('valid.json', 'w') as file:\n",
    "    file.write(df_valid.to_json(orient='records'))"
   ]
  },
  {
   "cell_type": "markdown",
   "metadata": {},
   "source": [
    "# Data Analysis/Data Visualization"
   ]
  },
  {
   "cell_type": "code",
   "execution_count": 34,
   "metadata": {
    "collapsed": true
   },
   "outputs": [],
   "source": [
    "df_valid = pd.read_json(\"valid.json\", orient=\"records\")"
   ]
  },
  {
   "cell_type": "code",
   "execution_count": 35,
   "metadata": {
    "collapsed": true
   },
   "outputs": [],
   "source": [
    "df_valid[\"Died\"] = pd.to_datetime(df_valid['Died'], unit=\"ms\")\n",
    "#Get rid of 2018, since its not a complete year\n",
    "df_valid = df_valid[df_valid[\"Died\"] < datetime.strptime(\"2018-01-01\", \"%Y-%m-%d\")]"
   ]
  },
  {
   "cell_type": "code",
   "execution_count": 36,
   "metadata": {
    "collapsed": true
   },
   "outputs": [],
   "source": [
    "#Count the number of deaths per year\n",
    "deaths_per_year = defaultdict(int)\n",
    "for row in df_valid[\"Died\"]:\n",
    "    deaths_per_year[row.year] += 1\n",
    "deaths_sorted = OrderedDict(sorted(deaths_per_year.items()))"
   ]
  },
  {
   "cell_type": "code",
   "execution_count": 37,
   "metadata": {},
   "outputs": [
    {
     "name": "stdout",
     "output_type": "stream",
     "text": [
      "Deaths in 2004 = 56\n",
      "Deaths in 2005 = 48\n",
      "Deaths in 2006 = 56\n",
      "Deaths in 2007 = 48\n",
      "Deaths in 2008 = 58\n",
      "Deaths in 2009 = 45\n",
      "Deaths in 2010 = 62\n",
      "Deaths in 2011 = 61\n",
      "Deaths in 2012 = 58\n",
      "Deaths in 2013 = 61\n",
      "Deaths in 2014 = 60\n",
      "Deaths in 2015 = 63\n",
      "Deaths in 2016 = 78\n",
      "Deaths in 2017 = 77\n"
     ]
    }
   ],
   "source": [
    "#Print number of deaths per year sorted by deaths\n",
    "for key,value in deaths_sorted.items():\n",
    "    print( \"Deaths in \" + str(key) + \" = \" + str(value))"
   ]
  },
  {
   "cell_type": "code",
   "execution_count": 38,
   "metadata": {
    "collapsed": true
   },
   "outputs": [],
   "source": [
    "#Find the trends per year\n",
    "trends_per_year = defaultdict(list)\n",
    "for key,value in deaths_per_year.items():\n",
    "    df = df_valid[(df_valid.Died >= datetime.strptime(str(key), \"%Y\")) & (df_valid.Died < datetime.strptime(str(key + 1), \"%Y\"))]\n",
    "    trends_per_year[key] = df.Trends.tolist()"
   ]
  },
  {
   "cell_type": "code",
   "execution_count": 39,
   "metadata": {
    "collapsed": true
   },
   "outputs": [],
   "source": [
    "#Find the sum of trends and average of trends per year\n",
    "trends_per_year_sum = defaultdict(int)\n",
    "trends_per_year_avg = defaultdict(float)\n",
    "\n",
    "for key,value in trends_per_year.items():\n",
    "    tr = trends_per_year[key]\n",
    "    trends_per_year_sum[key] = sum(tr)\n",
    "    trends_per_year_avg[key] = sum(tr)/ float(len(tr))"
   ]
  },
  {
   "cell_type": "code",
   "execution_count": 40,
   "metadata": {
    "collapsed": true
   },
   "outputs": [],
   "source": [
    "trends_per_year_sum_ord = OrderedDict(sorted(trends_per_year_sum.items()))\n",
    "trends_per_year_avg_ord = OrderedDict(sorted(trends_per_year_avg.items()))"
   ]
  },
  {
   "cell_type": "code",
   "execution_count": 41,
   "metadata": {},
   "outputs": [
    {
     "name": "stdout",
     "output_type": "stream",
     "text": [
      "Trend sum in 2004 = 788\n",
      "Trend sum in 2005 = 551\n",
      "Trend sum in 2006 = 375\n",
      "Trend sum in 2007 = 282\n",
      "Trend sum in 2008 = 713\n",
      "Trend sum in 2009 = 738\n",
      "Trend sum in 2010 = 1078\n",
      "Trend sum in 2011 = 865\n",
      "Trend sum in 2012 = 1425\n",
      "Trend sum in 2013 = 662\n",
      "Trend sum in 2014 = 1217\n",
      "Trend sum in 2015 = 1052\n",
      "Trend sum in 2016 = 1584\n",
      "Trend sum in 2017 = 1333\n"
     ]
    }
   ],
   "source": [
    "for key,value in trends_per_year_sum_ord.items():\n",
    "    print( \"Trend sum in \" + str(key) + \" = \" + str(value))"
   ]
  },
  {
   "cell_type": "code",
   "execution_count": 42,
   "metadata": {},
   "outputs": [
    {
     "name": "stdout",
     "output_type": "stream",
     "text": [
      "Trend avg in 2004 = 14.071428571428571\n",
      "Trend avg in 2005 = 11.479166666666666\n",
      "Trend avg in 2006 = 6.696428571428571\n",
      "Trend avg in 2007 = 5.875\n",
      "Trend avg in 2008 = 12.293103448275861\n",
      "Trend avg in 2009 = 16.4\n",
      "Trend avg in 2010 = 17.387096774193548\n",
      "Trend avg in 2011 = 14.180327868852459\n",
      "Trend avg in 2012 = 24.56896551724138\n",
      "Trend avg in 2013 = 10.852459016393443\n",
      "Trend avg in 2014 = 20.283333333333335\n",
      "Trend avg in 2015 = 16.6984126984127\n",
      "Trend avg in 2016 = 20.307692307692307\n",
      "Trend avg in 2017 = 17.31168831168831\n"
     ]
    }
   ],
   "source": [
    "for key,value in trends_per_year_avg_ord.items():\n",
    "    print( \"Trend avg in \" + str(key) + \" = \" + str(value))"
   ]
  },
  {
   "cell_type": "code",
   "execution_count": 43,
   "metadata": {},
   "outputs": [
    {
     "name": "stdout",
     "output_type": "stream",
     "text": [
      "Deaths, Trend sum, Trend average in 2004 = 56, 788, 14.071428571428571\n",
      "Deaths, Trend sum, Trend average in 2005 = 48, 551, 11.479166666666666\n",
      "Deaths, Trend sum, Trend average in 2006 = 56, 375, 6.696428571428571\n",
      "Deaths, Trend sum, Trend average in 2007 = 48, 282, 5.875\n",
      "Deaths, Trend sum, Trend average in 2008 = 58, 713, 12.293103448275861\n",
      "Deaths, Trend sum, Trend average in 2009 = 45, 738, 16.4\n",
      "Deaths, Trend sum, Trend average in 2010 = 62, 1078, 17.387096774193548\n",
      "Deaths, Trend sum, Trend average in 2011 = 61, 865, 14.180327868852459\n",
      "Deaths, Trend sum, Trend average in 2012 = 58, 1425, 24.56896551724138\n",
      "Deaths, Trend sum, Trend average in 2013 = 61, 662, 10.852459016393443\n",
      "Deaths, Trend sum, Trend average in 2014 = 60, 1217, 20.283333333333335\n",
      "Deaths, Trend sum, Trend average in 2015 = 63, 1052, 16.6984126984127\n",
      "Deaths, Trend sum, Trend average in 2016 = 78, 1584, 20.307692307692307\n",
      "Deaths, Trend sum, Trend average in 2017 = 77, 1333, 17.31168831168831\n"
     ]
    }
   ],
   "source": [
    "for key,value in trends_per_year_avg_ord.items():\n",
    "    print( \"Deaths, Trend sum, Trend average in \" + str(key) + \" = \" + str(deaths_per_year[key]) + \", \" + str(trends_per_year_sum[key]) + \", \" + str(trends_per_year_avg[key]))"
   ]
  },
  {
   "cell_type": "code",
   "execution_count": 44,
   "metadata": {
    "collapsed": true
   },
   "outputs": [],
   "source": [
    "#Count the number of positive trend deaths per year\n",
    "positive_deaths_per_year = defaultdict(int)\n",
    "for death,trend in zip(df_valid[\"Died\"],df_valid[\"Trends\"]):\n",
    "    if trend >= 1:\n",
    "        positive_deaths_per_year[death.year] += 1\n",
    "positive_deaths_sorted = OrderedDict(sorted(positive_deaths_per_year.items()))"
   ]
  },
  {
   "cell_type": "code",
   "execution_count": 45,
   "metadata": {},
   "outputs": [
    {
     "name": "stdout",
     "output_type": "stream",
     "text": [
      "Trend Ratios in 2004 greater than 1 = 38\n",
      "Trend Ratios in 2005 greater than 1 = 39\n",
      "Trend Ratios in 2006 greater than 1 = 36\n",
      "Trend Ratios in 2007 greater than 1 = 35\n",
      "Trend Ratios in 2008 greater than 1 = 42\n",
      "Trend Ratios in 2009 greater than 1 = 31\n",
      "Trend Ratios in 2010 greater than 1 = 43\n",
      "Trend Ratios in 2011 greater than 1 = 46\n",
      "Trend Ratios in 2012 greater than 1 = 50\n",
      "Trend Ratios in 2013 greater than 1 = 42\n",
      "Trend Ratios in 2014 greater than 1 = 38\n",
      "Trend Ratios in 2015 greater than 1 = 41\n",
      "Trend Ratios in 2016 greater than 1 = 57\n",
      "Trend Ratios in 2017 greater than 1 = 57\n"
     ]
    }
   ],
   "source": [
    "for key,value in positive_deaths_sorted.items():\n",
    "    print( \"Trend Ratios in \" + str(key) + \" greater than 1 = \" + str(value))"
   ]
  },
  {
   "cell_type": "code",
   "execution_count": 84,
   "metadata": {},
   "outputs": [
    {
     "data": {
      "image/png": "[encoded data removed]",
      "text/plain": [
       "<matplotlib.figure.Figure at 0x1c19e41f60>"
      ]
     },
     "metadata": {},
     "output_type": "display_data"
    }
   ],
   "source": [
    "years = list(deaths_sorted.keys())\n",
    "deaths = list(deaths_sorted.values())\n",
    "trend_data = list(trends_per_year_avg_ord.values())\n",
    "\n",
    "plt.plot(years, deaths, color='g', label='Deaths')\n",
    "plt.plot(years, trend_data, color='orange', label='Average trend popularity')\n",
    "plt.title('Average Celebrity trend popularity, Deaths - Years')\n",
    "plt.legend()\n",
    "plt.show()"
   ]
  },
  {
   "cell_type": "code",
   "execution_count": 87,
   "metadata": {},
   "outputs": [
    {
     "data": {
      "image/png": "[encoded data removed]",
      "text/plain": [
       "<matplotlib.figure.Figure at 0x10cdc7d30>"
      ]
     },
     "metadata": {},
     "output_type": "display_data"
    }
   ],
   "source": [
    "plt.bar(years,deaths)\n",
    "plt.title('Bar Graph: Celebrity Deaths per year')\n",
    "plt.show()"
   ]
  },
  {
   "cell_type": "code",
   "execution_count": 86,
   "metadata": {},
   "outputs": [
    {
     "data": {
      "image/png": "[encoded data removed]",
      "text/plain": [
       "<matplotlib.figure.Figure at 0x1c19cf9e80>"
      ]
     },
     "metadata": {},
     "output_type": "display_data"
    }
   ],
   "source": [
    "plt.bar(years,trend_data)\n",
    "plt.title('Bar Graph: Average Celebrity Death Trends per year')\n",
    "plt.show()"
   ]
  },
  {
   "cell_type": "code",
   "execution_count": 82,
   "metadata": {},
   "outputs": [
    {
     "data": {
      "image/png": "[encoded data removed]",
      "text/plain": [
       "<matplotlib.figure.Figure at 0x1c19c17e10>"
      ]
     },
     "metadata": {},
     "output_type": "display_data"
    }
   ],
   "source": [
    "plt.scatter(trend_data, deaths, color='g')\n",
    "z = np.polyfit(trend_data, deaths, 1)\n",
    "p = np.poly1d(z)\n",
    "plt.plot(trend_data,p(trend_data),\"r--\")\n",
    "plt.title('Average Celebrity Trend Popularity - Deaths')\n",
    "plt.show()"
   ]
  },
  {
   "cell_type": "code",
   "execution_count": 64,
   "metadata": {},
   "outputs": [
    {
     "name": "stdout",
     "output_type": "stream",
     "text": [
      "                            OLS Regression Results                            \n",
      "==============================================================================\n",
      "Dep. Variable:                 deaths   R-squared:                       0.206\n",
      "Model:                            OLS   Adj. R-squared:                  0.140\n",
      "Method:                 Least Squares   F-statistic:                     3.111\n",
      "Date:                Wed, 21 Mar 2018   Prob (F-statistic):              0.103\n",
      "Time:                        20:18:00   Log-Likelihood:                -49.263\n",
      "No. Observations:                  14   AIC:                             102.5\n",
      "Df Residuals:                      12   BIC:                             103.8\n",
      "Df Model:                           1                                         \n",
      "Covariance Type:            nonrobust                                         \n",
      "==============================================================================\n",
      "                 coef    std err          t      P>|t|      [0.025      0.975]\n",
      "------------------------------------------------------------------------------\n",
      "Intercept     47.0512      7.364      6.389      0.000      31.005      63.097\n",
      "trends         0.8267      0.469      1.764      0.103      -0.195       1.848\n",
      "==============================================================================\n",
      "Omnibus:                        0.370   Durbin-Watson:                   1.485\n",
      "Prob(Omnibus):                  0.831   Jarque-Bera (JB):                0.112\n",
      "Skew:                           0.193   Prob(JB):                        0.946\n",
      "Kurtosis:                       2.791   Cond. No.                         49.3\n",
      "==============================================================================\n",
      "\n",
      "Warnings:\n",
      "[1] Standard Errors assume that the covariance matrix of the errors is correctly specified.\n"
     ]
    },
    {
     "name": "stderr",
     "output_type": "stream",
     "text": [
      "/anaconda3/lib/python3.6/site-packages/scipy/stats/stats.py:1334: UserWarning: kurtosistest only valid for n>=20 ... continuing anyway, n=14\n",
      "  \"anyway, n=%i\" % int(n))\n"
     ]
    }
   ],
   "source": [
    "dictionary = {'trends': trend_data, 'deaths': deaths}\n",
    "regressionframe = pd.DataFrame(data=dictionary)\n",
    "outcome_1, predictors_1 = patsy.dmatrices('deaths ~ trends', regressionframe)\n",
    "mod_1 = sm.OLS(outcome_1, predictors_1)\n",
    "res_1 = mod_1.fit()\n",
    "print(res_1.summary())"
   ]
  },
  {
   "cell_type": "markdown",
   "metadata": {
    "collapsed": true
   },
   "source": [
    "# Privacy/Ethics Considerations"
   ]
  },
  {
   "cell_type": "markdown",
   "metadata": {},
   "source": [
    "We have permission to utilize these datasets as most of our data is from open sourced websites and are open to public use. Due to celebrities being public figures, it is unlikely that we would encounter any additional privacy issues due the data being dependent on social media trends and their deaths. Because we are allowing wikipedia to define our definition of a celebrity, It is possible that what constitutes a “celebrity” might vary from person to person. This can potentially cause our data to become more confusing as some of the deaths contributing to the dataset might not lead to substantial social media trends compared to other deaths. This could skew that data in that the deaths in a year were notable, but not well-known to American media and public."
   ]
  },
  {
   "cell_type": "markdown",
   "metadata": {},
   "source": [
    "# Conclusions and Discussion"
   ]
  },
  {
   "cell_type": "markdown",
   "metadata": {},
   "source": [
    "From our data analyisis we found that there was a positive weak correlation between social media trends and deaths. The year 2016 had a larger number of popular celebrity deaths and a larger overall number of celebrity deaths from 2004 onwards. This leads us to believe that our initial hypothesis was incorrect and that the wide usage of social media and the internet was not the reason for believing that 2016 had more celebrity deaths than in the past. This contributes to the possiblity that perhaps social media and the internet can aid in public awareness of noteworthy statistical occurences.\n",
    "\n",
    "As a way to further pursue this topic, analysis could be also be applied in separate regions throughout 2016 to determine internet popularity rather than globally. This could lead to more nuance in the number of celebrity deaths with positive social media trends. The large number of celebrity deaths in 2016 could possibly be because of the number of popular figures born 60 to 80 years ago, in which lifespans coincide with the digital age today, further analysis would also look at birth years as well, to determine if there is a notable trend."
   ]
  }
 ],
 "metadata": {
  "kernelspec": {
   "display_name": "Python 3",
   "language": "python",
   "name": "python3"
  },
  "language_info": {
   "codemirror_mode": {
    "name": "ipython",
    "version": 3
   },
   "file_extension": ".py",
   "mimetype": "text/x-python",
   "name": "python",
   "nbconvert_exporter": "python",
   "pygments_lexer": "ipython3",
   "version": "3.6.3"
  }
 },
 "nbformat": 4,
 "nbformat_minor": 2
}
