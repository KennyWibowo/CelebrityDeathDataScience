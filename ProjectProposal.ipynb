{
 "cells": [
  {
   "cell_type": "markdown",
   "metadata": {},
   "source": [
    "# COGS 108 - Project Proposal"
   ]
  },
  {
   "cell_type": "markdown",
   "metadata": {},
   "source": [
    "## Important\n",
    "\n",
    "- Make sure all group members (3-5 people) are listed in the group members section.\n",
    "- ONE, and only one, member of your group should upload this notebook to TritonED. \n",
    "- Each member of the group will receive the same grade on this assignment. \n",
    "- Keep the file name the same: submit the file 'ProjectProposal.ipynb'"
   ]
  },
  {
   "cell_type": "markdown",
   "metadata": {},
   "source": [
    "## Overview"
   ]
  },
  {
   "cell_type": "markdown",
   "metadata": {},
   "source": [
    "Read the project description and detailed instructions for this assignment in the 'ProjectOutline' document."
   ]
  },
  {
   "cell_type": "markdown",
   "metadata": {},
   "source": [
    "## Group Members: Fill in the Student IDs of each group member here\n",
    "\n",
    "Replace the lines below to list each persons full student ID. Add lines as needed for your group size, and make sure each ID is listed on a separate line. \n",
    "\n",
    "- REDACTED\n",
    "- REDACTED\n",
    "- REDACTED\n",
    "- REDACTED\n",
    "- REDACTED"
   ]
  },
  {
   "cell_type": "markdown",
   "metadata": {},
   "source": [
    "### Research Question\n",
    "\n",
    "What is your research question? (1-2 sentences)"
   ]
  },
  {
   "cell_type": "markdown",
   "metadata": {},
   "source": [
    "What is the total number of significant celebrities that passed away in 2016, compared to other years? How has social media impacted our bias of noting these deaths?"
   ]
  },
  {
   "cell_type": "markdown",
   "metadata": {},
   "source": [
    "### Hypothesis\n",
    "\n",
    "What is your main hypothesis and predictions? (2-3 sentences)"
   ]
  },
  {
   "cell_type": "markdown",
   "metadata": {},
   "source": [
    "Our hypothesis is that although it may be true that a significant number of celebrities passed away in 2016, the introduction of modern media, especially through social mediums such as Facebook and Reddit, has caused a sense of “over sensationalization” that biased our judgement of how many celebrities passed away in 2016 compared to other years."
   ]
  },
  {
   "cell_type": "markdown",
   "metadata": {},
   "source": [
    "### Dataset(s)\n",
    "\n",
    "What data will you use to answer your question? Describe the dataset(s) in terms of number of observations, what kind of features it contains, etc. You must use at least one dataset containing at least approximately 1000 observations (if your data are smaller but you feel they are sufficient, email Prof. Voytek). You are welcome (and in fact recommended) to find multiple datasets! If you do so, describe each one, and briefly explain how you will combine them together. "
   ]
  },
  {
   "cell_type": "markdown",
   "metadata": {},
   "source": [
    "- Dataset Name: Wikipedia - “Lists of Celebrities” \n",
    "- Link to the dataset: https://en.wikipedia.org/wiki/Lists_of_celebrities \n",
    "- Number of observations: Although its currently hard to tell how many celebrities there are, just from one subcategory, “List of actors with Academy Award nominations”,  “a total of 919 actors appear in the list—463 males and 456 females.”\n",
    "- The dataset is an amalgamation of all of the celebrities accessible from the “List of celebrities” page on wikipedia. In order to crawl the site, we will recursively visit all of the links reachable by the root master link, determine if the page is a person, determine whether the person has passed, and gather the death date if it exists.\n",
    "<br><br>\n",
    "- Dataset Name: Google Trends\n",
    "- Link to the dataset: https://trends.google.com/trends/\n",
    "- Number of observations: Vastly many, although we will primarily utilize this to query the celebrity we see in the Wikipedia dataset.\n",
    "- This dataset contains the relative popularities of searches for any Google search queries at specific times. We will utilize this to compare relative trending popularities of celebrities at time of death to determine the “social media hype” around their death. We will utilize third party tools such as pytrends in order to access Google Trends."
   ]
  },
  {
   "cell_type": "markdown",
   "metadata": {},
   "source": [
    "### Background and Prior Work\n",
    "\n",
    "Why is this question of interest, what background information led you to your hypothesis, and why is this important?\n",
    "\n",
    "Find some relevant prior work, and reference those sources. Even if you think you have a totally novel question, find the most similar prior work that you can and discuss how it relates to your project. \n",
    "\n",
    "References can be research publications, but they need not be. Blogs, github repositories, company websites, etc., are all viable references if they are relevant to your project.\n",
    "\n",
    "(2-3 paragraphs, including at least 2 references)"
   ]
  },
  {
   "cell_type": "markdown",
   "metadata": {},
   "source": [
    "For many on the internet, it seemed as though 2016 was a particularly awful year due to the deaths of many beloved actors, musician, and other celebrities. However, it may not actually be the case that 2016 had an unusually high number of celebrity deaths. Snopes examined the number of notable deaths reported by various news outlets in 2016 and in previous years and saw that while several news outlets reported more deaths in 2016 than in other years, the differences were not unusually high. This also does not necessarily mean than more celebrities are dying but rather it could be that news outlets are reporting more celebrity deaths in recent years. According to The Guardian, social media has contributed in amplifying emotional response after a celebrity death due to the speed at which news travels on these websites and apps as well as social media bringing people closer to the celebrities they adore. Time Magazine suggests that it is not the number of celebrity deaths that made 2016 unusual but rather the fact that many of the celebrities that passed away were particularly notable, which makes it seem like 2016 was worse than previous years.\n",
    "\n",
    "The Telegraph also discusses some theories about why so many celebrities seemed to die in 2016. It could be that more people are dying in general or more people are being considered celebrities. It is also possible that many celebrities had unhealthy lifestyles that ultimately contributed to their untimely deaths. People’s perceptions could also have been affected due to celebrities dying on the same day or within days of each other. We also once again get the theory that social media amplifies celebrity deaths.\n",
    "\n",
    "For our project, we will be examining the social media theory in particular. Since we get news spreads almost instantly through social media platforms and these platforms provide millions of people a place to express their emotions, it is quite plausible that social media has skewed people’s perceptions regarding the number of celebrity deaths.\n",
    "\n",
    "References (include links):\n",
    "- 1)https://www.snopes.com/2016/12/28/2016-the-deadliest-year-for-celebrities/\n",
    "- 2)http://www.telegraph.co.uk/men/thinking-man/why-are-so-many-celebrities-dying-in-2016/"
   ]
  },
  {
   "cell_type": "markdown",
   "metadata": {},
   "source": [
    "### Proposed Methods\n",
    "\n",
    "What methods will you use to analyze your data?\n",
    "\n",
    "- How 'clean' is the data? To the extent that it requires cleaning, how will you do so?\n",
    "- How will you analyze the data? Be as specific as you can. Briefly mention any pre-processing steps that are required for your methods (for example, checking data distributions and performing any transformations that may be required). Include a brief outline of how you will apply your chosen method(s). \n",
    "- What do you plan to report? Briefly mention any key visualizations you plan to create, and/or the kind of results you will be able to report that address your question (this could be, for example, the outcome of some statistical test(s), prediction error on a model, a model fit parameter, etc.).\n",
    "- Include a list of packages you expect to use for you project. If you plan to use packages we have not used in class, add a very brief description about them (a few words is sufficient). "
   ]
  },
  {
   "cell_type": "markdown",
   "metadata": {},
   "source": [
    "*Data Cleaning (2-3 sentences)*\n",
    "Although most of the data seems to be in a common format, we’ve observed some inconsistencies in the way death is recorded between Wikipedia pages. For example, some pages record death in a “Born: xxx, Died: xxx” format, while others are formatted in a timeline, such as “xxx - xxx”. For the trending information, it isn’t in a common unit, but instead in relative “trendiness,” so in order to collect the data, we will pick an arbitrary pivot point that we will use to compare to the rest of the celebrities. (Ex: A is 100%, B is 80% of A, C is 120% of A.)\n",
    "\n",
    "*Data Analysis (1-2 paragraphs)*\n",
    "Since our data is in a fairly straightforward format (binary, either dead or not dead, and on specific dates), no transformations will be necessary. There may be some culling of the data needed if we encounter too many non-important celebrities, whom we can determine based off of the Google Trends data.\n",
    "\n",
    "*What to report (2-3 sentences)*\n",
    "We plan to report distributions of deaths aside from 2016 along with the average “trendiness” as determined by Google Trends at the time of death for the celebrity, grouped by year, and compare 2016 to other years to show the social media impact of the deaths.. We will then report the number and trends in 2016 in order to compare and see if the year is a true outlier or a perceived outlier along with an additional statistical analysis of the given datasets.\n",
    "\n",
    "Packages we plan to use:\n",
    "- Beautiful Soup\n",
    "- PyTrends\n",
    "- Pandas\n",
    "- Numpy"
   ]
  },
  {
   "cell_type": "markdown",
   "metadata": {},
   "source": [
    "### Ethics and Privacy\n",
    "\n",
    "Briefly acknowledge and address any potential issues of ethics and privacy for the proposed project. In particular:\n",
    "- Do you have permission to use this data, for this purpose?\n",
    "- Are there privacy concerns regarding your datasets that you need to deal with, and/or terms of use that you need to comply with?\n",
    "- Are there potential biases in your dataset(s), in terms of who it composes, and how it was collected, that may be problematic in terms of it allowing for equitable analysis? (For example, does your data exclude particular populations, or is it likely to reflect particular human biases in a way that could be a problem?) \n",
    "- Are there any other issues related to your topic area, data, and/or analyses that are potentially problematic in terms of data privacy and equitable impact?\n",
    "- How will you handle any issues you identify?\n",
    "\n",
    "Yes we do have permission as most of our data is from open sourced websites and are open to public use. We believe we have no privacy concerns regarding the datasets and no solid terms of use to follow. As the google trend dataset is based on the search trends of people, we may encounter a spike in our data for fake death searches which we would have to edit out while cleaning the data. Due to celebrities being public figures, it is unlikely that we would encounter any additional privacy issues due the data being dependent on social media trends and their deaths."
   ]
  },
  {
   "cell_type": "markdown",
   "metadata": {},
   "source": [
    "### Discussion\n",
    "\n",
    "Discuss your project, looking forward to what your results might mean, how they fit it in with what is already known, and what problems you may encounter. \n",
    "\n",
    "In particular:\n",
    "- If your analyses and hypotheses are correct, what will be the contribution of this project to the topic domain? \n",
    "- Alternatively, what will you do if you methods don't work and/or your hypotheses are wrong? \n",
    "- What are the potential pitfalls and potential confounds of your data and/or methods that may cause problems, and/or influence your interpretations?\n",
    "\n",
    "(2-3 paragraphs)"
   ]
  },
  {
   "cell_type": "markdown",
   "metadata": {},
   "source": [
    "   If our analysis and hypothesis is correct, this can be potentially another indicative trend on how impactful social media usage as well as groupthink can cause individuals to see outlying trends when there is none. This project could also supplement other research regarding the usage of social media and the internet over the past decade. If our methods fail to gather significant data to determine any conclusions then we might need to modify how the data is grouped or compiled before applying analyses. If our hypothesis is wrong, this implies that there were an inordinate amount of celebrity deaths in 2016 and that the social media trends were possibly correct. This could additionally be used for evidence that social media allows the public to be aware of sometimes accurate statistical trends in society.\n",
    "\n",
    "   It is possible that what constitutes a “celebrity” might vary from person to person. This can potentially cause our data to become more confusing as some of the deaths contributing to the dataset might not lead to substantial social media trends compared to other deaths. This could skew that data in that the deaths in a year were notable, but not well-known to American media and public. Additionally, we need to consider regional social media trends in other countries. Not doing so might potentially lead us to assume that there was no trend for that celebrity when there actually could be."
   ]
  }
 ],
 "metadata": {
  "kernelspec": {
   "display_name": "Python 3",
   "language": "python",
   "name": "python3"
  },
  "language_info": {
   "codemirror_mode": {
    "name": "ipython",
    "version": 3
   },
   "file_extension": ".py",
   "mimetype": "text/x-python",
   "name": "python",
   "nbconvert_exporter": "python",
   "pygments_lexer": "ipython3",
   "version": "3.6.3"
  }
 },
 "nbformat": 4,
 "nbformat_minor": 2
}
