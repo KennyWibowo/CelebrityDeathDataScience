{
 "cells": [
  {
   "cell_type": "markdown",
   "metadata": {},
   "source": [
    "# COGS 108 - Final Project\n"
   ]
  },
  {
   "cell_type": "markdown",
   "metadata": {},
   "source": [
    "## Data Cleaning/Pre-processing"
   ]
  },
  {
   "cell_type": "markdown",
   "metadata": {},
   "source": [
    "The first step in our project is to import our dependencies"
   ]
  },
  {
   "cell_type": "code",
   "execution_count": 24,
   "metadata": {},
   "outputs": [],
   "source": [
    "import pandas as pd\n",
    "import requests\n",
    "import bs4\n",
    "from bs4 import BeautifulSoup"
   ]
  },
  {
   "cell_type": "markdown",
   "metadata": {},
   "source": [
    "First, we will define a function that we will use to return the celebrity name and death date, along with any other features we would like to extract. If we pass in any page that isn't a wikipedia page of a deceased notable celebrity (as per our definition), the function will return `None`."
   ]
  },
  {
   "cell_type": "code",
   "execution_count": 25,
   "metadata": {},
   "outputs": [],
   "source": [
    "def get_death_date(soup):\n",
    "    table = soup.find('table', class_='biography')\n",
    "\n",
    "    if table is not None:\n",
    "        died_row = root_table.find('th', string='Died')\n",
    "        if died_row is None:\n",
    "            return None\n",
    "        else:\n",
    "            celeb_name = root_table.find('span', class_='fn').text\n",
    "            died = root_died_row.parent.find('span', class_='dday deathdate').text\n",
    "            # Extract other features that we would like to keep.\n",
    "            return celeb_name, died"
   ]
  },
  {
   "cell_type": "markdown",
   "metadata": {},
   "source": [
    "Then, we will recursively traverse the links through Breadth First Search and visit all Wikipedia links reachable from the 'List of Celebrities' page. "
   ]
  },
  {
   "cell_type": "code",
   "execution_count": 26,
   "metadata": {},
   "outputs": [],
   "source": [
    "root_page = requests.get('https://en.wikipedia.org/wiki/Lists_of_celebrities')\n",
    "\n",
    "root_soup = BeautifulSoup(root_page.content, 'html.parser')\n",
    "\n",
    "# Breadth First Search traversal\n",
    "\n",
    "links_dict = {} # Dictionary of visited links\n",
    "\n",
    "links_queue = [] # Queue of links to visit\n",
    "\n",
    "# Find all links on the page that lead to another wikipedia page.\n",
    "for link in root_soup.findAll('a'):\n",
    "\tpass # TODO: implement BFS"
   ]
  },
  {
   "cell_type": "code",
   "execution_count": null,
   "metadata": {},
   "outputs": [],
   "source": []
  }
 ],
 "metadata": {
  "kernelspec": {
   "display_name": "Python 3",
   "language": "python",
   "name": "python3"
  },
  "language_info": {
   "codemirror_mode": {
    "name": "ipython",
    "version": 3
   },
   "file_extension": ".py",
   "mimetype": "text/x-python",
   "name": "python",
   "nbconvert_exporter": "python",
   "pygments_lexer": "ipython3",
   "version": "3.6.4"
  }
 },
 "nbformat": 4,
 "nbformat_minor": 2
}
